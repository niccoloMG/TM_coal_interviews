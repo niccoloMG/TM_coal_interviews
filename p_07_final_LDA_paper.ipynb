{
 "cells": [
  {
   "cell_type": "markdown",
   "metadata": {},
   "source": [
    "## import libraries"
   ]
  },
  {
   "cell_type": "code",
   "execution_count": 1,
   "metadata": {},
   "outputs": [],
   "source": [
    "#import gensim for topic modelling\n",
    "import gensim # https://radimrehurek.com/gensim/models/ldamodel.html\n",
    "from gensim import corpora\n",
    "from gensim.models import CoherenceModel #to calculate coherence\n",
    "import time #to have today's date\n",
    "timestr = time.strftime(\"%Y%m%d\")\n",
    "import pandas as pd"
   ]
  },
  {
   "cell_type": "code",
   "execution_count": 2,
   "metadata": {},
   "outputs": [
    {
     "name": "stderr",
     "output_type": "stream",
     "text": [
      "[nltk_data] Downloading package stopwords to\n",
      "[nltk_data]     C:\\Users\\mann\\AppData\\Roaming\\nltk_data...\n",
      "[nltk_data]   Package stopwords is already up-to-date!\n",
      "[nltk_data] Downloading package wordnet to\n",
      "[nltk_data]     C:\\Users\\mann\\AppData\\Roaming\\nltk_data...\n",
      "[nltk_data]   Package wordnet is already up-to-date!\n"
     ]
    }
   ],
   "source": [
    "#get the clean text from the other notebook\n",
    "%run ./p_03_prepare_text_paper.ipynb\n",
    "# doc_clean = get_doc_clean() ##all interviews together\n",
    "#dict_clean_doc_x ##with different lenghts dropped"
   ]
  },
  {
   "cell_type": "markdown",
   "metadata": {},
   "source": [
    "## drop short documents"
   ]
  },
  {
   "cell_type": "code",
   "execution_count": 3,
   "metadata": {},
   "outputs": [],
   "source": [
    "var_drop_x = 10 #drop all documents with number of words <= x. Only keep documents >x\n",
    "doc_clean_x = dict_clean_doc_x['>'+str(var_drop_x)]  #from p_03_prepare text\n",
    "doc_list_paras_x = dict_doc_list_paras_x['>'+str(var_drop_x)] #from p_03_prepare text"
   ]
  },
  {
   "cell_type": "markdown",
   "metadata": {},
   "source": [
    "## convert corpus into a matrix"
   ]
  },
  {
   "cell_type": "markdown",
   "metadata": {},
   "source": [
    "A DT matrix describes the frequency of terms that occur in a collection of documents. In a document-term matrix, rows correspond to documents in the collection and columns correspond to terms"
   ]
  },
  {
   "cell_type": "markdown",
   "metadata": {},
   "source": [
    "### creating the term dictionary"
   ]
  },
  {
   "cell_type": "code",
   "execution_count": 4,
   "metadata": {},
   "outputs": [],
   "source": [
    "# Creating the term dictionary of our corpus, where every unique term is assigned an index. \n",
    "def get_dictionary(doc_clean):\n",
    "    dictionary = corpora.Dictionary(doc_clean)\n",
    "    return(dictionary)"
   ]
  },
  {
   "cell_type": "code",
   "execution_count": 5,
   "metadata": {},
   "outputs": [],
   "source": [
    "#create dictionaries\n",
    "dictionary_x = get_dictionary(doc_clean_x)"
   ]
  },
  {
   "cell_type": "markdown",
   "metadata": {},
   "source": [
    "### creating the document term matrix"
   ]
  },
  {
   "cell_type": "code",
   "execution_count": 8,
   "metadata": {},
   "outputs": [],
   "source": [
    "# Converting list of documents (corpus) into Document Term Matrix using dictionary prepared above.\n",
    "#this is also called Bag of Words corpus\n",
    "def get_doc_term_matrix(dictionary, doc_clean):\n",
    "    doc_term_matrix = [dictionary.doc2bow(doc) for doc in doc_clean]\n",
    "    return(doc_term_matrix)"
   ]
  },
  {
   "cell_type": "code",
   "execution_count": 9,
   "metadata": {},
   "outputs": [],
   "source": [
    "#get document term matrix\n",
    "doc_term_matrix_x = get_doc_term_matrix(dictionary_x, doc_clean_x)"
   ]
  },
  {
   "cell_type": "markdown",
   "metadata": {},
   "source": [
    "## Running the LDA Model"
   ]
  },
  {
   "cell_type": "markdown",
   "metadata": {},
   "source": [
    "create an object for LDA model and train it on Document-Term matrix"
   ]
  },
  {
   "cell_type": "code",
   "execution_count": 12,
   "metadata": {},
   "outputs": [],
   "source": [
    "# Creating the object for LDA model using gensim library + # Running and Trainign LDA model on the document term matrix.\n",
    "def get_ldamodel(var_alpha, var_no_topics, var_passes, doc_term_matrix, dictionary):\n",
    "    ldamodel = gensim.models.ldamodel.LdaModel(doc_term_matrix, num_topics=var_no_topics, alpha=var_alpha,\n",
    "                id2word = dictionary, random_state=1, passes=var_passes,minimum_probability=0) \n",
    "    #use random_state for reproducity\n",
    "    return(ldamodel)"
   ]
  },
  {
   "cell_type": "code",
   "execution_count": 13,
   "metadata": {},
   "outputs": [],
   "source": [
    "#choose parameters, run model:\n",
    "var_alpha = 0.01\n",
    "var_no_topics = 22\n",
    "var_passes = 50 # default: passes=1\n",
    "ldamodel = get_ldamodel(var_alpha, var_no_topics, var_passes, doc_term_matrix_x, dictionary_x)"
   ]
  },
  {
   "cell_type": "markdown",
   "metadata": {},
   "source": [
    "#compare model results with the ones from the notebook p_05_set_parameters_LDA <br>\n",
    "coherence_model_lda = CoherenceModel(model=ldamodel, \\\n",
    "                texts=doc_clean_x, dictionary=dictionary_x, coherence='c_v')\n",
    "coherence_lda = coherence_model_lda.get_coherence() #get the coherence score\n",
    "print(coherence_lda)"
   ]
  },
  {
   "cell_type": "code",
   "execution_count": 14,
   "metadata": {},
   "outputs": [],
   "source": [
    "#do list with the topics keywords for graphs\n",
    "list_topics_keywords = list()\n",
    "for x in range(0, var_no_topics):\n",
    "    wp = ldamodel.show_topic(x, topn=20) #default: topn=10, number of words\n",
    "    topic_keywords = \", \".join([word for word, prop in wp])\n",
    "    list_topics_keywords.append(topic_keywords)"
   ]
  },
  {
   "cell_type": "code",
   "execution_count": 15,
   "metadata": {},
   "outputs": [],
   "source": [
    "#make dataframe with original topic numbers and the keywords\n",
    "df_ori_num_keyw = pd.DataFrame({'ori_topic_num':range(0, len(list_topics_keywords)), 'keywords':list_topics_keywords})\n",
    "df_ori_num_keyw.to_csv('.//results//topics_group//topic_original_numbers_keywords_'+timestr+'_V01.csv',\n",
    "    sep=';', decimal=',')"
   ]
  },
  {
   "cell_type": "code",
   "execution_count": 16,
   "metadata": {},
   "outputs": [
    {
     "data": {
      "text/plain": [
       "['people, work, political, talk, time, community, government, right, take, interest, good, try, way, need, sort, different, happen, party, back, much',\n",
       " 'everyones, metro, insurance, expenditure, charter, speaking, correct, stance, speculation, represent, participated, 47, satisfied, uso, resident, doom, annex, logically, batteries, contentious',\n",
       " 'job, labor, worker, trade_union, secretary, employment, just_transition, create, lose, sector, prime_minister, vice, cooperative, joint, people, renewables, president, information, transition, decommission',\n",
       " 'mining, environmental, mine, sector, national, ministry, project, level, example, resource, minister, many, social, company, important, impact, law, area, government, activity',\n",
       " 'water, river, momentum, crc, younger, aquifer, beis, monthly, sponsor, shell, crop, guajira, rain, dry, divert, thatll, pass, lately, lab, sierra',\n",
       " 'state, india, government, power, electricity, pay, subsidy, give, indonesia, land, people, public, problem, right, basically, private, tariff, budget, need, distribution',\n",
       " 'railway, covid19, pandemic, indian, freight, utilize, corridor, traffic, track, utilization, passenger, gain, maker, train, utilized, nut, instrumental, hmm, spiral, normal',\n",
       " 'year, million, 10, 20, 5, 30, gw, 100, number, billion, per, capacity, 25, 50, last, 2, percent, 3, 40, 15',\n",
       " 'coal, mine, export, company, industry, coal_mining, production, right, india, country, market, produce, import, cc, indonesia, mining, use, domestic, ton, miner',\n",
       " 'work, policy, energy, ministry, process, department, different, role, involve, government, actor, example, public, level, sector, industry, company, bit, national, energy_sector',\n",
       " 'gas, plant, coal, technology, build, use, power_plant, oil, new, energy, hydrogen, natural_gas, year, fuel, project, still, coal_power_plants, china, biomass, plan',\n",
       " 'emission, climate_change, target, sector, carbon, policy, reduction, commitment, international, decarbonization, 2050, ndc, chile, law, country, much, discussion, paris_agreement, standard, climate',\n",
       " 'project, government, kenya, finance, solar, need, investor, bank, company, money, renewable_energy, investment, power, local, country, wind, fund, invest, support, vietnam',\n",
       " 'net_zero, decarbonisation, geothermal, health, et, cetera, climate_change, organisation, energy_security, government, still, priority, decision, education, climate, much, advice, effort, parliament, petrol',\n",
       " 'uk, year, gas, big, government, around, renewables, change, new, coal, time, policy, percent, last, start, build, happen, much, ago, bit',\n",
       " 'plan, government, vietnam, year, energy, philippine, work, green, country, policy, need, try, still, climate_change, renewable_energy, study, strategy, report, implement, develop',\n",
       " 'challenge, goal, development, important, perspective, three, energy_sector, energy, question, objective, country, transition, economy, biggest, energy_policy, growth, first, focus, general, main',\n",
       " 'tax, commission, carbon, law, state, act, process, discussion, federal, budget, federal_government, end, result, structural, climate_protection, coal_commission, point, power_plant, still, implement',\n",
       " 'coal, cost, power, need, price, electricity, renewables, right, market, renewable_energy, plant, much, system, run, still, time, utility, capacity, way, term',\n",
       " 'company, cost, market, price, take, much, change, today, way, happen, industry, people, business, production, opportunity, economy, time, year, process, talk',\n",
       " 'energy, demand, electricity, system, country, solar, generation, electric, transmission, need, area, example, grid, supply, source, use, technology, talk, energy_efficiency, distribution',\n",
       " 'coal, important, phaseout, question, policy, role, much, industry, uk, political, play, decision, germany, climate, eu, thank, lead, economic, country, carbon_pricing']"
      ]
     },
     "execution_count": 16,
     "metadata": {},
     "output_type": "execute_result"
    }
   ],
   "source": [
    "list_topics_keywords"
   ]
  },
  {
   "cell_type": "code",
   "execution_count": null,
   "metadata": {},
   "outputs": [],
   "source": []
  }
 ],
 "metadata": {
  "kernelspec": {
   "display_name": "Python 3",
   "language": "python",
   "name": "python3"
  },
  "language_info": {
   "codemirror_mode": {
    "name": "ipython",
    "version": 3
   },
   "file_extension": ".py",
   "mimetype": "text/x-python",
   "name": "python",
   "nbconvert_exporter": "python",
   "pygments_lexer": "ipython3",
   "version": "3.7.4"
  }
 },
 "nbformat": 4,
 "nbformat_minor": 2
}
