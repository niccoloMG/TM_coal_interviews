{
 "cells": [
  {
   "cell_type": "code",
   "execution_count": 2,
   "metadata": {},
   "outputs": [],
   "source": [
    "import pandas as pd\n",
    "import time #to have today's date\n",
    "timestr = time.strftime(\"%Y%m%d\")"
   ]
  },
  {
   "cell_type": "code",
   "execution_count": 4,
   "metadata": {},
   "outputs": [],
   "source": [
    "# update to newest version of the dataframes!\n",
    "# for df_topics_categories:\n",
    "var_time_d = '20220517'"
   ]
  },
  {
   "cell_type": "code",
   "execution_count": 6,
   "metadata": {},
   "outputs": [],
   "source": [
    "df_docs_newNum_topics_country_class_order = \\\n",
    "    pd.read_csv('.//results//master_dfs//docs_newNum_topics_country_class_keywords_text_q_'+var_time_d+'_V01.csv',\n",
    "    sep=';', decimal=',', index_col=0)"
   ]
  },
  {
   "cell_type": "code",
   "execution_count": 14,
   "metadata": {},
   "outputs": [],
   "source": [
    "list_country_oder = ['DE', 'UK', 'CL', 'CO', 'US', 'KE', 'ZA', 'ID', 'IN', 'VN', 'PH', 'PK']\n",
    "list_num = list(range(1, 23))"
   ]
  },
  {
   "cell_type": "code",
   "execution_count": 15,
   "metadata": {},
   "outputs": [
    {
     "data": {
      "text/plain": [
       "[1, 2, 3, 4, 5, 6, 7, 8, 9, 10, 11, 12, 13, 14, 15, 16, 17, 18, 19, 20, 21, 22]"
      ]
     },
     "execution_count": 15,
     "metadata": {},
     "output_type": "execute_result"
    }
   ],
   "source": [
    "list_num"
   ]
  },
  {
   "cell_type": "code",
   "execution_count": 28,
   "metadata": {},
   "outputs": [],
   "source": [
    "list_columns = list_country_oder.copy()\n",
    "list_columns.insert(0, 't_num')"
   ]
  },
  {
   "cell_type": "code",
   "execution_count": 29,
   "metadata": {},
   "outputs": [
    {
     "data": {
      "text/plain": [
       "['t_num',\n",
       " 'DE',\n",
       " 'UK',\n",
       " 'CL',\n",
       " 'CO',\n",
       " 'US',\n",
       " 'KE',\n",
       " 'ZA',\n",
       " 'ID',\n",
       " 'IN',\n",
       " 'VN',\n",
       " 'PH',\n",
       " 'PK']"
      ]
     },
     "execution_count": 29,
     "metadata": {},
     "output_type": "execute_result"
    }
   ],
   "source": [
    "list_columns"
   ]
  },
  {
   "cell_type": "code",
   "execution_count": 118,
   "metadata": {},
   "outputs": [
    {
     "name": "stderr",
     "output_type": "stream",
     "text": [
      "c:\\users\\mann\\appdata\\local\\programs\\python\\python37-32\\lib\\site-packages\\ipykernel_launcher.py:16: SettingWithCopyWarning: \n",
      "A value is trying to be set on a copy of a slice from a DataFrame.\n",
      "Try using .loc[row_indexer,col_indexer] = value instead\n",
      "\n",
      "See the caveats in the documentation: https://pandas.pydata.org/pandas-docs/stable/user_guide/indexing.html#returning-a-view-versus-a-copy\n",
      "  app.launch_new_instance()\n"
     ]
    }
   ],
   "source": [
    "df_doc_per_topic_per_country = pd.DataFrame() #the final dataset\n",
    "df_docs = df_docs_newNum_topics_country_class_order.copy()\n",
    "m = 0\n",
    "for x in list_country_oder:\n",
    "    df_docs_one_country = pd.DataFrame(columns=['t_num', x+'_Text'])\n",
    "    df_c = df_docs[df_docs['Country']==x]\n",
    "    for n in list_num:\n",
    "        var_t = 't_'+str(n)+'_perc_cont'\n",
    "        df_t = df_c[['Text', var_t]]\n",
    "        df_t = df_t.sort_values(by=var_t, ascending=False) #sort by contribution\n",
    "        df_t.rename(columns={var_t:x+'_contribution', 'Text':x+'_Text'}, inplace=True) #add the country to the column names\n",
    "        df_t_short = df_t.head(5) #only show top 5 documents\n",
    "        list_k = []\n",
    "        for k in list(range(1,6)):\n",
    "            list_k.append('#'+str(n)+'.'+str(k))\n",
    "        df_t_short['t_num'] = list_k #add column to perform merge on later on\n",
    "        df_docs_one_country = df_docs_one_country.append(df_t_short)\n",
    "        df_docs_one_country.reset_index(drop=True, inplace=True)\n",
    "    if m == 0: #for the first, take as dataframe\n",
    "        df_doc_per_topic_per_country = df_docs_one_country.copy()\n",
    "    else: #later merge with the existing dataframe on the t_num columns\n",
    "        df_doc_per_topic_per_country = pd.merge(df_doc_per_topic_per_country, df_docs_one_country, on ='t_num')\n",
    "    m += 1"
   ]
  },
  {
   "cell_type": "code",
   "execution_count": 119,
   "metadata": {},
   "outputs": [],
   "source": [
    "df_doc_per_topic_per_country.to_csv('.//results//table_docs_per_topic_per_country//table_docs_per_topic_per_country_'+timestr+'_V01.csv',\n",
    "    sep=';', decimal=',')"
   ]
  },
  {
   "cell_type": "code",
   "execution_count": null,
   "metadata": {},
   "outputs": [],
   "source": []
  }
 ],
 "metadata": {
  "kernelspec": {
   "display_name": "Python 3",
   "language": "python",
   "name": "python3"
  },
  "language_info": {
   "codemirror_mode": {
    "name": "ipython",
    "version": 3
   },
   "file_extension": ".py",
   "mimetype": "text/x-python",
   "name": "python",
   "nbconvert_exporter": "python",
   "pygments_lexer": "ipython3",
   "version": "3.7.4"
  }
 },
 "nbformat": 4,
 "nbformat_minor": 2
}
