{
 "cells": [
  {
   "cell_type": "markdown",
   "metadata": {},
   "source": [
    "## import libraries"
   ]
  },
  {
   "cell_type": "code",
   "execution_count": 1,
   "metadata": {},
   "outputs": [],
   "source": [
    "import os #to import all files in directory\n",
    "import docx #to read docx files\n",
    "import pandas as pd\n",
    "import numpy as np\n",
    "import time #to have today's date\n",
    "timestr = time.strftime(\"%Y%m%d\")"
   ]
  },
  {
   "cell_type": "markdown",
   "metadata": {},
   "source": [
    "## import interviews"
   ]
  },
  {
   "cell_type": "code",
   "execution_count": 2,
   "metadata": {},
   "outputs": [],
   "source": [
    "#P: sometimes a paragraph is just empty, e.g. ''. Remove those!\n",
    "def delete_paragraph(paragraph):\n",
    "    p = paragraph._element\n",
    "    p.getparent().remove(p)\n",
    "    #p._p = p._element = None\n",
    "    paragraph._p = paragraph._element = None"
   ]
  },
  {
   "cell_type": "code",
   "execution_count": 3,
   "metadata": {},
   "outputs": [],
   "source": [
    "#get all interviews from all folders!\n",
    "#code from: https://pythonguides.com/python-get-all-files-in-directory/\n",
    "def import_transcripts():\n",
    "    path = '.\\\\transcripts'\n",
    "    list_of_files = []\n",
    "    dict_all_interviews_w_q = {}\n",
    "    for root, dirs, files in os.walk(path):\n",
    "        for file in files:\n",
    "            list_of_files.append(os.path.join(root,file))\n",
    "            short_name = file.replace(\".docx\",\"\")\n",
    "            file_x = docx.Document(os.path.join(root,file))\n",
    "            dict_all_interviews_w_q[short_name] = file_x #each interview as a docx file, named as in the folder\n",
    "    #sometimes a paragraph is empty, delete it!\n",
    "    for x in dict_all_interviews_w_q:\n",
    "        for y in dict_all_interviews_w_q[x].paragraphs:\n",
    "            if y.text in ['', ' ', '  ', '   ']:\n",
    "                delete_paragraph(y)\n",
    "    return(dict_all_interviews_w_q)"
   ]
  },
  {
   "cell_type": "code",
   "execution_count": 4,
   "metadata": {},
   "outputs": [],
   "source": [
    "#get dict with the questions (from Colombia onwards)\n",
    "dict_all_interviews_w_q = import_transcripts()"
   ]
  },
  {
   "cell_type": "markdown",
   "metadata": {},
   "source": [
    "## prepare dataframe with all documents"
   ]
  },
  {
   "cell_type": "code",
   "execution_count": 5,
   "metadata": {},
   "outputs": [],
   "source": [
    "#prepare dataframe with all the questions ('Question') in one column and the replies ('Text') in another\n",
    "df_questions_replies = pd.DataFrame(columns={'Question', 'Text'})\n",
    "for x in dict_all_interviews_w_q:\n",
    "    for y in range(0, len(dict_all_interviews_w_q[x].paragraphs)):\n",
    "        var_text_1 = dict_all_interviews_w_q[x].paragraphs[y].text\n",
    "        if var_text_1 not in set(df_questions_replies['Text']): #so if it has not been added with a question yet\n",
    "            if '<q/start>' in var_text_1: #if it is a question\n",
    "                var_text_2 = dict_all_interviews_w_q[x].paragraphs[y+1].text\n",
    "                row = {'Question':var_text_1, 'Text':var_text_2}\n",
    "                df_questions_replies = df_questions_replies.append(row, ignore_index=True)\n",
    "            else: #otherwise (so it is a reply)\n",
    "                row = {'Text':var_text_1}\n",
    "                df_questions_replies = df_questions_replies.append(row, ignore_index=True)\n",
    "df_questions_replies = df_questions_replies[['Question', 'Text']]\n",
    "#if 'index out of range'-->last paragraph is question. Change in word"
   ]
  },
  {
   "cell_type": "code",
   "execution_count": 6,
   "metadata": {},
   "outputs": [],
   "source": [
    "#find the respective interview for text\n",
    "def return_interview(some_text):\n",
    "    for var_interview in dict_all_interviews_w_q:\n",
    "        for z in dict_all_interviews_w_q[var_interview].paragraphs:\n",
    "            if z.text == some_text:\n",
    "                return(var_interview, z.text)"
   ]
  },
  {
   "cell_type": "code",
   "execution_count": 7,
   "metadata": {},
   "outputs": [],
   "source": [
    "#check if something went wrong! Print the respective transcripts and the text\n",
    "for x in df_questions_replies.index:\n",
    "    var_q = df_questions_replies.loc[x, 'Question']\n",
    "    var_text = df_questions_replies.loc[x, 'Text']\n",
    "    \n",
    "    #if the question is not missing?\n",
    "    if pd.isnull(var_q) == False:\n",
    "        #is only either <q/start> or <q/end> in Question?\n",
    "        if \"<q/start>\" in var_q:\n",
    "            if  \"<q/end>\" not in var_q:\n",
    "                var_interview, var_text = return_interview(var_q)\n",
    "                print(\"only <q/start> in Question: \" + str(var_interview)+': '+var_text+'\\n')\n",
    "        if \"<q/end>\" in var_q:\n",
    "            if  \"<q/start>\" not in var_q:\n",
    "                var_interview, var_text = return_interview(var_q)\n",
    "                print(\"only <q/end> in Question: \" + str(var_interview)+': '+var_text+'\\n')\n",
    "    \n",
    "    #if we have two missing questions in a row\n",
    "    if pd.isnull(var_q) == True:\n",
    "        if pd.isnull(df_questions_replies.loc[x+1, 'Question']) == True:\n",
    "            var_interview, var_text = return_interview(var_text) #with var_text\n",
    "            print(\">2 consecutive Questions are empty: \" + str(var_interview)+': '+var_text+'\\n')\n",
    "    \n",
    "    #is <q/start> or <q/end> in column Text?\n",
    "    if any (x in var_text for x in [\"<q/start>\", \"<q/end>\"]): #or pd.isna(var_q): \n",
    "        var_interview, var_text = return_interview(var_text)\n",
    "        print(\"<q/end> or <q/start> in var_text: \" + str(var_interview)+': '+var_text+'\\n')\n",
    "    "
   ]
  },
  {
   "cell_type": "code",
   "execution_count": 8,
   "metadata": {},
   "outputs": [],
   "source": [
    "#remove the charcter for new paragraphs in questions\n",
    "for x in df_questions_replies.index:\n",
    "    if type(df_questions_replies.loc[x, 'Question']) == str:\n",
    "        df_questions_replies.loc[x, 'Question'] = df_questions_replies.loc[x,'Question'].replace('\\n', '')"
   ]
  },
  {
   "cell_type": "code",
   "execution_count": 9,
   "metadata": {},
   "outputs": [],
   "source": [
    "df_questions_replies.to_csv('.//results//topics_group//questions_replies_'+timestr+'_V01.csv',\n",
    "    sep=';', decimal=',')\n",
    "#when exported, '…' is turned into 'â€¦'"
   ]
  },
  {
   "cell_type": "code",
   "execution_count": 10,
   "metadata": {},
   "outputs": [],
   "source": [
    "#do a dict with the questions combined with the answers:\n",
    "#drop the paragraphs that have the answer only.\n",
    "dict_all_interviews_qa = dict_all_interviews_w_q.copy()#P: paragrahs are dropped in all dicts!\n",
    "for x in dict_all_interviews_qa:\n",
    "    var_len_x = len(dict_all_interviews_qa[x].paragraphs)\n",
    "    y = 0\n",
    "    while y < var_len_x:\n",
    "        var_text_1 = dict_all_interviews_qa[x].paragraphs[y].text\n",
    "        z = y+1\n",
    "        if '<q/start>' in var_text_1:\n",
    "            var_text_2 = dict_all_interviews_qa[x].paragraphs[z].text\n",
    "            if '<q/start>' not in var_text_2:\n",
    "                var_text_qa = var_text_1 + ' ' + var_text_2\n",
    "                #put a space (' ') after start and before end. So I can drop it in stopwords\n",
    "                var_text_qa = var_text_qa.replace('<q/start>', '<q/start> ').replace('<q/end>', ' <q/end>')\n",
    "                #replace RE with renewable energy & REs with renewable energies\n",
    "                var_text_qa = var_text_qa.replace(\" RE \", \" renewable energy \").replace(' REs ', ' renewable energies ').replace(\" RE's \", \" renewable energies \")\n",
    "                dict_all_interviews_qa[x].paragraphs[y].text = var_text_qa\n",
    "                delete_paragraph(dict_all_interviews_qa[x].paragraphs[z])\n",
    "                var_len_x = len(dict_all_interviews_qa[x].paragraphs)\n",
    "        y=z"
   ]
  },
  {
   "cell_type": "code",
   "execution_count": 11,
   "metadata": {},
   "outputs": [],
   "source": [
    "#get dict with the questions (from Colombia onwards)\n",
    "dict_all_interviews_q_a = import_transcripts()"
   ]
  },
  {
   "cell_type": "code",
   "execution_count": null,
   "metadata": {},
   "outputs": [],
   "source": []
  }
 ],
 "metadata": {
  "kernelspec": {
   "display_name": "Python 3",
   "language": "python",
   "name": "python3"
  },
  "language_info": {
   "codemirror_mode": {
    "name": "ipython",
    "version": 3
   },
   "file_extension": ".py",
   "mimetype": "text/x-python",
   "name": "python",
   "nbconvert_exporter": "python",
   "pygments_lexer": "ipython3",
   "version": "3.7.4"
  }
 },
 "nbformat": 4,
 "nbformat_minor": 2
}
