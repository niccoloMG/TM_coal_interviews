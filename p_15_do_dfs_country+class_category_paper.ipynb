{
 "cells": [
  {
   "cell_type": "code",
   "execution_count": 29,
   "metadata": {},
   "outputs": [],
   "source": [
    "import pandas as pd\n",
    "import time #to have today's date\n",
    "timestr = time.strftime(\"%Y%m%d\")\n",
    "import numpy as np"
   ]
  },
  {
   "cell_type": "code",
   "execution_count": 30,
   "metadata": {},
   "outputs": [],
   "source": [
    "#import csv. \n",
    "df_topics_categories = pd.read_csv\\\n",
    "('.//results//master_dfs//category_numname_topics_numname_orinew_keywords_lambda_'+timestr+'_V01.csv',\n",
    "    sep=';', decimal=',', index_col=0)"
   ]
  },
  {
   "cell_type": "code",
   "execution_count": 31,
   "metadata": {},
   "outputs": [],
   "source": [
    "# convert topic numbers per category into a list\n",
    "groups = df_topics_categories.groupby('Category_num')['Topic_num'].apply(list)\n",
    "#make dictionary\n",
    "dict_t_c_num = dict(groups)"
   ]
  },
  {
   "cell_type": "code",
   "execution_count": 32,
   "metadata": {},
   "outputs": [],
   "source": [
    "#merge the topics per group\n",
    "def topics_into_categories(df_t_c):\n",
    "    for x in dict_t_c_num: #all the category numbers\n",
    "        df_t_c['c_'+str(x)] = 0\n",
    "        for y in dict_t_c_num[x]:\n",
    "            df_t_c['c_'+str(x)] += df_t_c[str(y)]\n",
    "            df_t_c.drop(columns=str(y), inplace=True)\n",
    "        df_t_c.rename(columns={'c_'+str(x):x}, inplace=True)\n",
    "    return(df_t_c)"
   ]
  },
  {
   "cell_type": "markdown",
   "metadata": {},
   "source": [
    "## do dataframes with categories per country and actor group"
   ]
  },
  {
   "cell_type": "markdown",
   "metadata": {},
   "source": [
    "### per country"
   ]
  },
  {
   "cell_type": "code",
   "execution_count": 33,
   "metadata": {},
   "outputs": [],
   "source": [
    "df_country_topics_share = pd.read_csv('.//results//master_dfs//country_topics_share_'+timestr+'_V01.csv',\n",
    "    sep=';', decimal=',', index_col=0)"
   ]
  },
  {
   "cell_type": "code",
   "execution_count": 34,
   "metadata": {},
   "outputs": [],
   "source": [
    "df_country_categories_share = topics_into_categories(df_country_topics_share.copy())"
   ]
  },
  {
   "cell_type": "code",
   "execution_count": 36,
   "metadata": {},
   "outputs": [],
   "source": [
    "df_country_categories_share.to_csv('.//results//master_dfs//country_categories_share_'+timestr+'_V01.csv',\n",
    "    sep=';', decimal=',')"
   ]
  },
  {
   "cell_type": "markdown",
   "metadata": {},
   "source": [
    "### per actor group"
   ]
  },
  {
   "cell_type": "code",
   "execution_count": 37,
   "metadata": {},
   "outputs": [],
   "source": [
    "df_class_topics_share = pd.read_csv('.//results//master_dfs//class_topics_share_'+timestr+'_V01.csv',\n",
    "    sep=';', decimal=',', index_col=0)"
   ]
  },
  {
   "cell_type": "code",
   "execution_count": 38,
   "metadata": {},
   "outputs": [],
   "source": [
    "df_class_categories_share = topics_into_categories(df_class_topics_share.copy())"
   ]
  },
  {
   "cell_type": "code",
   "execution_count": 39,
   "metadata": {},
   "outputs": [],
   "source": [
    "df_class_categories_share.to_csv('.//results//master_dfs//class_categories_share_'+timestr+'_V01.csv',\n",
    "    sep=';', decimal=',')"
   ]
  },
  {
   "cell_type": "markdown",
   "metadata": {},
   "source": [
    "### per country AND actor group"
   ]
  },
  {
   "cell_type": "code",
   "execution_count": 40,
   "metadata": {},
   "outputs": [],
   "source": [
    "df_country_class_topics_share = pd.read_csv('.//results//master_dfs//country_AND_class_topics_share_'+timestr+'_V01.csv',\n",
    "    sep=';', decimal=',', index_col=0)"
   ]
  },
  {
   "cell_type": "code",
   "execution_count": 41,
   "metadata": {},
   "outputs": [],
   "source": [
    "df_country_class_categories_share = topics_into_categories(df_country_class_topics_share.copy())"
   ]
  },
  {
   "cell_type": "code",
   "execution_count": 42,
   "metadata": {},
   "outputs": [],
   "source": [
    "df_country_class_categories_share.to_csv('.//results//master_dfs//country_AND_class_categories_share_'+timestr+'_V01.csv',\n",
    "    sep=';', decimal=',')"
   ]
  },
  {
   "cell_type": "markdown",
   "metadata": {},
   "source": [
    "## for shares between countries for each topic, so each topic is 100%"
   ]
  },
  {
   "cell_type": "code",
   "execution_count": 43,
   "metadata": {},
   "outputs": [],
   "source": [
    "df_country_topics_share_T = pd.read_csv('.//results//master_dfs//country_topics_share_T_'+timestr+'_V01.csv',\n",
    "    sep=';', decimal=',', index_col=0)\n",
    "df_country_categories_share_T = topics_into_categories(df_country_topics_share_T.copy())\n",
    "df_country_categories_share_T.to_csv('.//results//master_dfs//country_categories_share_T_'+timestr+'_V01.csv',\n",
    "    sep=';', decimal=',')"
   ]
  },
  {
   "cell_type": "code",
   "execution_count": 44,
   "metadata": {},
   "outputs": [],
   "source": [
    "df_class_topics_share_T = pd.read_csv('.//results//master_dfs//class_topics_share_T_'+timestr+'_V01.csv',\n",
    "    sep=';', decimal=',', index_col=0)\n",
    "df_class_categories_share_T = topics_into_categories(df_class_topics_share_T.copy())\n",
    "df_class_categories_share_T.to_csv('.//results//master_dfs//class_categories_share_T_'+timestr+'_V01.csv',\n",
    "    sep=';', decimal=',')"
   ]
  },
  {
   "cell_type": "code",
   "execution_count": 45,
   "metadata": {},
   "outputs": [],
   "source": [
    "df_country_class_topics_share_T = pd.read_csv('.//results//master_dfs//country_AND_class_topics_share_T_'+timestr+'_V01.csv',\n",
    "    sep=';', decimal=',', index_col=0)\n",
    "df_country_class_categories_share_T = topics_into_categories(df_country_class_topics_share_T.copy())\n",
    "df_country_class_categories_share_T.to_csv('.//results//master_dfs//country_AND_class_categories_share_T_'+timestr+'_V01.csv',\n",
    "    sep=';', decimal=',')"
   ]
  },
  {
   "cell_type": "code",
   "execution_count": null,
   "metadata": {},
   "outputs": [],
   "source": []
  }
 ],
 "metadata": {
  "kernelspec": {
   "display_name": "Python 3",
   "language": "python",
   "name": "python3"
  },
  "language_info": {
   "codemirror_mode": {
    "name": "ipython",
    "version": 3
   },
   "file_extension": ".py",
   "mimetype": "text/x-python",
   "name": "python",
   "nbconvert_exporter": "python",
   "pygments_lexer": "ipython3",
   "version": "3.7.4"
  }
 },
 "nbformat": 4,
 "nbformat_minor": 2
}
