{
 "cells": [
  {
   "cell_type": "markdown",
   "metadata": {},
   "source": [
    "do the clusters for different topic number (20 & 24) and for different lenghts dropped (5, 20)"
   ]
  },
  {
   "cell_type": "code",
   "execution_count": 82,
   "metadata": {},
   "outputs": [],
   "source": [
    "#import gensim for topic modelling\n",
    "import gensim # https://radimrehurek.com/gensim/models/ldamodel.html\n",
    "from gensim import corpora\n",
    "from gensim.models import CoherenceModel #to calculate coherence\n",
    "import time #to have today's date\n",
    "timestr = time.strftime(\"%Y%m%d\")\n",
    "import pandas as pd\n",
    "from scipy.spatial import distance_matrix\n",
    "import sklearn\n",
    "import scipy.cluster.hierarchy as shc # for dendrogram\n",
    "var_text_size = 15 #for font size in graphs"
   ]
  },
  {
   "cell_type": "code",
   "execution_count": 1,
   "metadata": {},
   "outputs": [
    {
     "name": "stderr",
     "output_type": "stream",
     "text": [
      "[nltk_data] Downloading package stopwords to\n",
      "[nltk_data]     C:\\Users\\mann\\AppData\\Roaming\\nltk_data...\n",
      "[nltk_data]   Package stopwords is already up-to-date!\n",
      "[nltk_data] Downloading package wordnet to\n",
      "[nltk_data]     C:\\Users\\mann\\AppData\\Roaming\\nltk_data...\n",
      "[nltk_data]   Package wordnet is already up-to-date!\n",
      "\n",
      "Bad key text.latex.preview in file c:\\users\\mann\\appdata\\local\\programs\\python\\python37-32\\lib\\site-packages\\matplotlib\\mpl-data\\stylelib\\_classic_test.mplstyle, line 123 ('text.latex.preview : False')\n",
      "You probably need to get an updated matplotlibrc file from\n",
      "https://github.com/matplotlib/matplotlib/blob/v3.5.1/matplotlibrc.template\n",
      "or from the matplotlib source distribution\n",
      "\n",
      "Bad key mathtext.fallback_to_cm in file c:\\users\\mann\\appdata\\local\\programs\\python\\python37-32\\lib\\site-packages\\matplotlib\\mpl-data\\stylelib\\_classic_test.mplstyle, line 155 ('mathtext.fallback_to_cm : True  # When True, use symbols from the Computer Modern')\n",
      "You probably need to get an updated matplotlibrc file from\n",
      "https://github.com/matplotlib/matplotlib/blob/v3.5.1/matplotlibrc.template\n",
      "or from the matplotlib source distribution\n",
      "\n",
      "Bad key savefig.jpeg_quality in file c:\\users\\mann\\appdata\\local\\programs\\python\\python37-32\\lib\\site-packages\\matplotlib\\mpl-data\\stylelib\\_classic_test.mplstyle, line 418 ('savefig.jpeg_quality: 95       # when a jpeg is saved, the default quality parameter.')\n",
      "You probably need to get an updated matplotlibrc file from\n",
      "https://github.com/matplotlib/matplotlib/blob/v3.5.1/matplotlibrc.template\n",
      "or from the matplotlib source distribution\n",
      "\n",
      "Bad key keymap.all_axes in file c:\\users\\mann\\appdata\\local\\programs\\python\\python37-32\\lib\\site-packages\\matplotlib\\mpl-data\\stylelib\\_classic_test.mplstyle, line 466 ('keymap.all_axes : a                 # enable all axes')\n",
      "You probably need to get an updated matplotlibrc file from\n",
      "https://github.com/matplotlib/matplotlib/blob/v3.5.1/matplotlibrc.template\n",
      "or from the matplotlib source distribution\n",
      "\n",
      "Bad key animation.avconv_path in file c:\\users\\mann\\appdata\\local\\programs\\python\\python37-32\\lib\\site-packages\\matplotlib\\mpl-data\\stylelib\\_classic_test.mplstyle, line 477 ('animation.avconv_path: avconv     # Path to avconv binary. Without full path')\n",
      "You probably need to get an updated matplotlibrc file from\n",
      "https://github.com/matplotlib/matplotlib/blob/v3.5.1/matplotlibrc.template\n",
      "or from the matplotlib source distribution\n",
      "\n",
      "Bad key animation.avconv_args in file c:\\users\\mann\\appdata\\local\\programs\\python\\python37-32\\lib\\site-packages\\matplotlib\\mpl-data\\stylelib\\_classic_test.mplstyle, line 479 ('animation.avconv_args:            # Additional arguments to pass to avconv')\n",
      "You probably need to get an updated matplotlibrc file from\n",
      "https://github.com/matplotlib/matplotlib/blob/v3.5.1/matplotlibrc.template\n",
      "or from the matplotlib source distribution\n"
     ]
    }
   ],
   "source": [
    "#get the clean text from the other notebook\n",
    "%run ./p_03_prepare_text_paper.ipynb\n",
    "# doc_clean = get_doc_clean() ##all interviews together\n",
    "#dict_clean_doc_x ##with different lenghts dropped"
   ]
  },
  {
   "cell_type": "code",
   "execution_count": 107,
   "metadata": {},
   "outputs": [],
   "source": [
    "# Creating the term dictionary of our corpus, where every unique term is assigned an index. \n",
    "def get_dictionary(doc_clean):\n",
    "    dictionary = corpora.Dictionary(doc_clean)\n",
    "    return(dictionary)"
   ]
  },
  {
   "cell_type": "code",
   "execution_count": 108,
   "metadata": {},
   "outputs": [],
   "source": [
    "# Converting list of documents (corpus) into Document Term Matrix using dictionary prepared above.\n",
    "#this is also called Bag of Words corpus\n",
    "def get_doc_term_matrix(dictionary, doc_clean):\n",
    "    doc_term_matrix = [dictionary.doc2bow(doc) for doc in doc_clean]\n",
    "    return(doc_term_matrix)"
   ]
  },
  {
   "cell_type": "code",
   "execution_count": 109,
   "metadata": {},
   "outputs": [],
   "source": [
    "# do dictionaries with different parameter values\n",
    "#different number of topics\n",
    "dict_18_10 = {'var_no_topics':18, 'var_drop_x':10}\n",
    "dict_20_10 = {'var_no_topics':20, 'var_drop_x':10}\n",
    "dict_22_10 = {'var_no_topics':22, 'var_drop_x':10}\n",
    "dict_24_10 = {'var_no_topics':24, 'var_drop_x':10}\n",
    "dict_26_10 = {'var_no_topics':26, 'var_drop_x':10}\n",
    "#different corpus (dropped documents)\n",
    "dict_22_5 = {'var_no_topics':22, 'var_drop_x':5}\n",
    "dict_22_20 = {'var_no_topics':22, 'var_drop_x':20}\n",
    "\n",
    "\n",
    "# do dictionary for the different LDA runs\n",
    "dict_dict_runs = {'18_10':dict_18_10, '20_10':dict_20_10, '22_10':dict_22_10, '24_10':dict_24_10, '26_10':dict_26_10,\\\n",
    "                 '22_5':dict_22_5, '22_20':dict_22_20 }"
   ]
  },
  {
   "cell_type": "code",
   "execution_count": 110,
   "metadata": {},
   "outputs": [],
   "source": [
    "dict_dictionary_runs = {}\n",
    "dict_doc_term_matrix_runs = {}\n",
    "\n",
    "for runs in dict_dict_runs:\n",
    "    var_drop_x = dict_dict_runs[runs]['var_drop_x']\n",
    "    doc_clean_run = dict_clean_doc_x['>'+str(var_drop_x)]  #from p_03_prepare text\n",
    "    doc_list_paras_run = dict_doc_list_paras_x['>'+str(var_drop_x)] #from p_03_prepare text\n",
    "    \n",
    "    #create dictionaries\n",
    "    dictionary_run = get_dictionary(doc_clean_run)\n",
    "    dict_dictionary_runs[runs] = dictionary_run\n",
    "    #get document term matrix\n",
    "    doc_term_matrix_run = get_doc_term_matrix(dictionary_run, doc_clean_run)\n",
    "    dict_doc_term_matrix_runs[runs] = doc_term_matrix_run"
   ]
  },
  {
   "cell_type": "markdown",
   "metadata": {},
   "source": [
    "## run the LDA"
   ]
  },
  {
   "cell_type": "code",
   "execution_count": 111,
   "metadata": {},
   "outputs": [],
   "source": [
    "# Creating the object for LDA model using gensim library + # Running and Trainign LDA model on the document term matrix.\n",
    "def get_ldamodel(var_alpha, var_no_topics, var_passes, doc_term_matrix, dictionary):\n",
    "    ldamodel = gensim.models.ldamodel.LdaModel(doc_term_matrix, num_topics=var_no_topics, alpha=var_alpha,\n",
    "                id2word = dictionary, random_state=1, passes=var_passes,minimum_probability=0) \n",
    "    #use random_state for reproducity\n",
    "    return(ldamodel)"
   ]
  },
  {
   "cell_type": "code",
   "execution_count": 112,
   "metadata": {},
   "outputs": [
    {
     "name": "stdout",
     "output_type": "stream",
     "text": [
      "done with no 1; topics=18 and >10\n",
      "done with no 2; topics=20 and >10\n",
      "done with no 3; topics=22 and >10\n",
      "done with no 4; topics=24 and >10\n",
      "done with no 5; topics=26 and >10\n",
      "done with no 6; topics=22 and >5\n",
      "done with no 7; topics=22 and >20\n"
     ]
    }
   ],
   "source": [
    "n = 0\n",
    "dict_LDA_runs = {} #create dictionary for the model runs\n",
    "for runs in dict_dict_runs:\n",
    "    var_drop_x = dict_dict_runs[runs]['var_drop_x']\n",
    "\n",
    "    dictionary_run =  dict_dictionary_runs[runs]\n",
    "    doc_term_matrix_run = dict_doc_term_matrix_runs[runs]\n",
    "    \n",
    "    #choose parameters, run model:\n",
    "    var_alpha = 0.01\n",
    "    var_no_topics = dict_dict_runs[runs]['var_no_topics']\n",
    "    var_passes = 50 # default: passes=1\n",
    "    ldamodel = get_ldamodel(var_alpha, var_no_topics, var_passes, doc_term_matrix_run, dictionary_run)\n",
    "    dict_LDA_runs[runs] = ldamodel\n",
    "\n",
    "    n+=1\n",
    "    print('done with no '+str(n)+'; topics='+str(var_no_topics)+' and >'+str(var_drop_x))\n"
   ]
  },
  {
   "cell_type": "markdown",
   "metadata": {},
   "source": [
    "## get overview of topics"
   ]
  },
  {
   "cell_type": "code",
   "execution_count": 113,
   "metadata": {},
   "outputs": [],
   "source": [
    "#do list with the topics keywords for graphs\n",
    "dict_keywords_runs = {} #create dict for the keywords for each run\n",
    "for runs in dict_dict_runs:\n",
    "    list_topics_keywords = list()\n",
    "    for x in range(0, dict_dict_runs[runs]['var_no_topics']):\n",
    "        wp = dict_LDA_runs[runs].show_topic(x, topn=10) #default: topn=10, number of words\n",
    "        topic_keywords = \", \".join([word for word, prop in wp])\n",
    "        list_topics_keywords.append(topic_keywords)\n",
    "    dict_keywords_runs[runs] = list_topics_keywords"
   ]
  },
  {
   "cell_type": "markdown",
   "metadata": {},
   "source": [
    "## get contribution from each topic for each document, i.e. master df (from p_13)"
   ]
  },
  {
   "cell_type": "code",
   "execution_count": 114,
   "metadata": {},
   "outputs": [
    {
     "name": "stdout",
     "output_type": "stream",
     "text": [
      "done with no 1; topics=22 and >10\n",
      "done with no 2; topics=22 and >10\n",
      "done with no 3; topics=22 and >10\n",
      "done with no 4; topics=22 and >10\n",
      "done with no 5; topics=22 and >10\n",
      "done with no 6; topics=22 and >5\n",
      "done with no 7; topics=22 and >20\n"
     ]
    }
   ],
   "source": [
    "dict_topics_per_doc_df_runs = {}\n",
    "n=0\n",
    "for runs in dict_dict_runs:    \n",
    "    var_drop_x = dict_dict_runs[runs]['var_drop_x']\n",
    "    ldamodel_run = dict_LDA_runs[runs]\n",
    "    var_no_topics_run = dict_dict_runs[runs]['var_no_topics']\n",
    "    doc_list_paras_run = dict_doc_list_paras_x['>'+str(var_drop_x)]\n",
    "    doc_term_matrix_run =  dict_doc_term_matrix_runs[runs]\n",
    "    \n",
    "    #create dataframe with empty columns\n",
    "    topics_per_doc_df_run = pd.DataFrame()\n",
    "    list_topics_columns_run = list() #to use later\n",
    "    for x in range(0,var_no_topics_run):\n",
    "        topics_per_doc_df_run[\"perc_cont_\"+str(x)] = []\n",
    "        list_topics_columns_run.append(\"perc_cont_\"+str(x))\n",
    "        \n",
    "    # Get relevant topics for each document, this takes a while\n",
    "    for i, row in enumerate(ldamodel_run[doc_term_matrix_run]): #this provides a list with all topics and their percentage contribution\n",
    "        # Get all the topics, Perc Contribution and Keywords for each document\n",
    "        for j in row:\n",
    "            topic_num = j[0]\n",
    "            prop_topic = j[1]\n",
    "            wp = ldamodel_run.show_topic(topic_num)\n",
    "            topic_keywords = \", \".join([word for word, prop in wp])\n",
    "            topics_per_doc_df_run.loc[i, \"perc_cont_\"+str(topic_num)] = prop_topic\n",
    "            topics_per_doc_df_run.loc[i, \"keywords_\"+str(topic_num)] = topic_keywords    \n",
    "    \n",
    "    # Add original text to the end of the output to merge on\n",
    "    contents = pd.Series(doc_list_paras_run)\n",
    "    topics_per_doc_df_run = pd.concat([topics_per_doc_df_run, contents], axis=1)\n",
    "    topics_per_doc_df_run.rename(columns={0:'Text'}, inplace=True) #rename the added column with the original text\n",
    "    df_docs_topics_run = topics_per_doc_df_run\n",
    "    \n",
    "    #merge to get information on country, class etc. for each document\n",
    "    df_docs_topics_country_class_run = df_all_interviews.merge(df_docs_topics_run)\n",
    "    #S: drop duplicate rows:\n",
    "    df_docs_topics_country_class_run = df_docs_topics_country_class_run.drop_duplicates().reset_index(drop=True)\n",
    "    \n",
    "    dict_topics_per_doc_df_runs[runs] = df_docs_topics_country_class_run\n",
    "    n+=1\n",
    "    print('done with no '+str(n)+'; topics='+str(var_no_topics)+' and >'+str(var_drop_x))\n"
   ]
  },
  {
   "cell_type": "markdown",
   "metadata": {},
   "source": [
    "normally: change topic numbers to new numbers after labelling & assigning to categories"
   ]
  },
  {
   "cell_type": "markdown",
   "metadata": {},
   "source": [
    "## get the topic contribution per country (from p_14)"
   ]
  },
  {
   "cell_type": "code",
   "execution_count": 115,
   "metadata": {},
   "outputs": [],
   "source": [
    "#order of countries: (based on country hierarchical clustering)\n",
    "list_country_oder = ['DE', 'UK', 'CL', 'CO', 'US', 'KE', 'ZA', 'ID', 'IN', 'VN', 'PH', 'PK']"
   ]
  },
  {
   "cell_type": "code",
   "execution_count": 116,
   "metadata": {},
   "outputs": [
    {
     "name": "stdout",
     "output_type": "stream",
     "text": [
      "done with no 1; topics=22 and >10\n",
      "done with no 2; topics=22 and >10\n",
      "done with no 3; topics=22 and >10\n",
      "done with no 4; topics=22 and >10\n",
      "done with no 5; topics=22 and >10\n",
      "done with no 6; topics=22 and >5\n",
      "done with no 7; topics=22 and >20\n"
     ]
    }
   ],
   "source": [
    "dict_df_country_topics_share_runs = {}\n",
    "n=0\n",
    "for runs in dict_dict_runs:    \n",
    "    var_drop_x = dict_dict_runs[runs]['var_drop_x']\n",
    "    ldamodel_run = dict_LDA_runs[runs]\n",
    "    var_no_topics_run = dict_dict_runs[runs]['var_no_topics']\n",
    "    doc_list_paras_run = dict_doc_list_paras_x['>'+str(var_drop_x)]\n",
    "    doc_term_matrix_run =  dict_doc_term_matrix_runs[runs]\n",
    "    \n",
    "    df_docs_topics_country_class_run = dict_topics_per_doc_df_runs[runs]\n",
    "    \n",
    "    #create list with all columns that should be added to the sum\n",
    "    list_all_columns = df_docs_topics_country_class_run.columns\n",
    "    list_to_sum_run = []\n",
    "    for x in list_all_columns:\n",
    "        if 'perc_cont' in x:\n",
    "            list_to_sum_run.append(x)\n",
    "            \n",
    "    #show the topics per country\n",
    "    df_topics_country_gr_run = df_docs_topics_country_class_run.copy().\\\n",
    "        groupby(['Country'])[list_to_sum_run].sum().reset_index()\n",
    "\n",
    "    #change order of countries\n",
    "    df_topics_country_gr_run = df_topics_country_gr_run.set_index('Country').reindex(list_country_oder).reset_index()\n",
    "\n",
    "    #create column with the sum of all percentages, e.g. the number of paragraphs (not 100%, because rounded)\n",
    "    df_topics_country_gr_run['perc_total'] = df_topics_country_gr_run[list_to_sum_run].sum(axis=1)\n",
    "\n",
    "    #make list with all the columns (to delete later on)\n",
    "    list_topics_columns_paras_run = list_to_sum_run.copy()\n",
    "    list_topics_columns_paras_run.append('perc_total')\n",
    "\n",
    "    #get for each country the percentage for each topic\n",
    "    #example: documents from country A consist to 10% of topic 1, to 60% topic 2, and 30% topic 3.\n",
    "    #now the dataframe has the percentage for each topic. Divide by the number of texts per country. \n",
    "    df_country_topics_share_run = df_topics_country_gr_run.copy()\n",
    "    for x in df_country_topics_share_run.index:\n",
    "        for y in list_to_sum_run:\n",
    "            var_number = df_country_topics_share_run.loc[x,y]/df_country_topics_share_run.loc[x,'perc_total']*100\n",
    "            df_country_topics_share_run.loc[x, y+'_total'] = round(var_number,1)\n",
    "\n",
    "    #drop and rename columns\n",
    "    col_n = 1\n",
    "    for x in list_topics_columns_paras_run:\n",
    "        df_country_topics_share_run.drop(columns={x}, inplace=True)\n",
    "        df_country_topics_share_run.rename(columns={x+'_total':col_n}, inplace=True)\n",
    "        col_n+=1\n",
    "        \n",
    "    dict_df_country_topics_share_runs[runs] = df_country_topics_share_run\n",
    "    n+=1\n",
    "    print('done with no '+str(n)+'; topics='+str(var_no_topics)+' and >'+str(var_drop_x))"
   ]
  },
  {
   "cell_type": "markdown",
   "metadata": {},
   "source": [
    "## create distance matrix (from p_19)"
   ]
  },
  {
   "cell_type": "code",
   "execution_count": 117,
   "metadata": {},
   "outputs": [],
   "source": [
    "dict_distance_p1_runs = {}\n",
    "\n",
    "for runs in dict_dict_runs:    \n",
    "    df_country_topics_share_run = dict_df_country_topics_share_runs[runs] \n",
    "    #so here we have 12 vectors (countries) with 22 dimensions (topics) \n",
    "    df_c_s_run = df_country_topics_share_run.set_index('Country')\n",
    "    \n",
    "    df_distance_p1_run =  pd.DataFrame(distance_matrix(df_c_s_run.values, df_c_s_run.values, p=1), index=df_c_s_run.index, columns=df_c_s_run.index)\n",
    "    dict_distance_p1_runs[runs] = df_distance_p1_run"
   ]
  },
  {
   "cell_type": "markdown",
   "metadata": {},
   "source": [
    "## do clusters (from p_19)"
   ]
  },
  {
   "cell_type": "code",
   "execution_count": 118,
   "metadata": {
    "scrolled": false
   },
   "outputs": [
    {
     "name": "stderr",
     "output_type": "stream",
     "text": [
      "c:\\users\\mann\\appdata\\local\\programs\\python\\python37-32\\lib\\site-packages\\ipykernel_launcher.py:10: ClusterWarning: scipy.cluster: The symmetric non-negative hollow observation matrix looks suspiciously like an uncondensed distance matrix\n",
      "  # Remove the CWD from sys.path while we load stuff.\n"
     ]
    },
    {
     "data": {
      "image/png": "[encoded data removed]",
      "text/plain": [
       "<Figure size 864x288 with 1 Axes>"
      ]
     },
     "metadata": {
      "needs_background": "light"
     },
     "output_type": "display_data"
    },
    {
     "data": {
      "image/png": "[encoded data removed]",
      "text/plain": [
       "<Figure size 864x288 with 1 Axes>"
      ]
     },
     "metadata": {
      "needs_background": "light"
     },
     "output_type": "display_data"
    },
    {
     "data": {
      "image/png": "[encoded data removed]",
      "text/plain": [
       "<Figure size 864x288 with 1 Axes>"
      ]
     },
     "metadata": {
      "needs_background": "light"
     },
     "output_type": "display_data"
    },
    {
     "data": {
      "image/png": "[encoded data removed]",
      "text/plain": [
       "<Figure size 864x288 with 1 Axes>"
      ]
     },
     "metadata": {
      "needs_background": "light"
     },
     "output_type": "display_data"
    },
    {
     "data": {
      "image/png": "[encoded data removed]",
      "text/plain": [
       "<Figure size 864x288 with 1 Axes>"
      ]
     },
     "metadata": {
      "needs_background": "light"
     },
     "output_type": "display_data"
    },
    {
     "data": {
      "image/png": "[encoded data removed]",
      "text/plain": [
       "<Figure size 864x288 with 1 Axes>"
      ]
     },
     "metadata": {
      "needs_background": "light"
     },
     "output_type": "display_data"
    },
    {
     "data": {
      "image/png": "[encoded data removed]",
      "text/plain": [
       "<Figure size 864x288 with 1 Axes>"
      ]
     },
     "metadata": {
      "needs_background": "light"
     },
     "output_type": "display_data"
    }
   ],
   "source": [
    "for runs in dict_dict_runs:\n",
    "    var_drop_x = dict_dict_runs[runs]['var_drop_x']\n",
    "    var_no_topics_run = dict_dict_runs[runs]['var_no_topics']\n",
    "    df_distance_p1_run = dict_distance_p1_runs[runs]\n",
    "    \n",
    "    fig, ax1 = plt.subplots(figsize=(12,4))\n",
    "    #remove spines\n",
    "    for x in ['top', 'bottom', 'right', 'left']: \n",
    "        ax1.spines[x].set_visible(False) \n",
    "    Z = shc.linkage(df_distance_p1_run, method ='ward')\n",
    "    Dendrogram = shc.dendrogram(Z, labels=list_country_oder, color_threshold=1)\n",
    "    #remove ticks and labels on the y axis\n",
    "    ax1.tick_params(left = False, labelleft = False)\n",
    "    ax1.set_title('For topics='+str(var_no_topics_run)+' and >'+str(var_drop_x)+' clean words', fontsize=var_text_size)\n",
    "    #save\n",
    "    for file_type in ['svg', 'png']:\n",
    "        plt.savefig('.//results//z_compare_clustering_para//'+runs+'_df_distance_p1_'+timestr+'_V01.'+file_type, \\\n",
    "                       bbox_inches=\"tight\")\n",
    "    plt.show()"
   ]
  },
  {
   "cell_type": "code",
   "execution_count": null,
   "metadata": {},
   "outputs": [],
   "source": []
  },
  {
   "cell_type": "code",
   "execution_count": null,
   "metadata": {},
   "outputs": [],
   "source": []
  },
  {
   "cell_type": "code",
   "execution_count": null,
   "metadata": {},
   "outputs": [],
   "source": []
  },
  {
   "cell_type": "code",
   "execution_count": null,
   "metadata": {},
   "outputs": [],
   "source": []
  }
 ],
 "metadata": {
  "kernelspec": {
   "display_name": "Python 3",
   "language": "python",
   "name": "python3"
  },
  "language_info": {
   "codemirror_mode": {
    "name": "ipython",
    "version": 3
   },
   "file_extension": ".py",
   "mimetype": "text/x-python",
   "name": "python",
   "nbconvert_exporter": "python",
   "pygments_lexer": "ipython3",
   "version": "3.7.4"
  }
 },
 "nbformat": 4,
 "nbformat_minor": 2
}
