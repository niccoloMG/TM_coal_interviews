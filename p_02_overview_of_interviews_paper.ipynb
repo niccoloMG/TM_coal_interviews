{
 "cells": [
  {
   "cell_type": "markdown",
   "metadata": {},
   "source": [
    "## Import Libraries"
   ]
  },
  {
   "cell_type": "code",
   "execution_count": 1,
   "metadata": {},
   "outputs": [],
   "source": [
    "import os #to import all files in directory\n",
    "import docx #to read docx files\n",
    "import pandas as pd #to work with DataFrames\n",
    "\n",
    "import time #to have today's date\n",
    "timestr = time.strftime(\"%Y%m%d\")"
   ]
  },
  {
   "cell_type": "markdown",
   "metadata": {},
   "source": [
    "### import from other notebook"
   ]
  },
  {
   "cell_type": "code",
   "execution_count": 2,
   "metadata": {},
   "outputs": [],
   "source": [
    "#get the clean text from the other notebook\n",
    "%run ./p_01_import_transcripts_paper.ipynb\n",
    "#the dictionares contain all the interviews and their names (keys), e.g. 'UK_05_poli'\n",
    "# dict_all_interviews_a: only answers\n",
    "# dict_all_interviews_qa: questions and answers combined\n",
    "# dict_all_interviews_q_a : questions and answers seperately"
   ]
  },
  {
   "cell_type": "markdown",
   "metadata": {},
   "source": [
    "## do overview of interviews"
   ]
  },
  {
   "cell_type": "markdown",
   "metadata": {},
   "source": [
    "### overview of all Interviews"
   ]
  },
  {
   "cell_type": "code",
   "execution_count": 3,
   "metadata": {},
   "outputs": [],
   "source": [
    "#prepare overview of interviews in one df\n",
    "df_interviews_overview = pd.DataFrame()\n",
    "for x in dict_all_interviews_qa:\n",
    "    var_no_words = 0 #count the number of words in each interview\n",
    "    for y in dict_all_interviews_qa[x].paragraphs:\n",
    "        while '  ' in y.text:\n",
    "            y.text = y.text.replace('  ', '') #remove double space, otherwise this might be counted as a word\n",
    "            if '  ' not in y.text:\n",
    "                break\n",
    "        var_no_words += len(y.text.split(' '))\n",
    "\n",
    "    var_no_paras = len(dict_all_interviews_qa[x].paragraphs)\n",
    "    df_interviews_overview = df_interviews_overview.append({'Country':x.split('_')[0], 'No_per_Country':x.split('_')[1], \n",
    "            'Class':x.split('_')[2], 'Paragraphs':int(var_no_paras), 'Words':int(var_no_words),\n",
    "            'av_words_per_para': round(var_no_words/var_no_paras,1)}, ignore_index=True)"
   ]
  },
  {
   "cell_type": "code",
   "execution_count": 4,
   "metadata": {},
   "outputs": [],
   "source": [
    "df_interviews_overview.to_csv('.\\\\results\\overview_interviews\\qa_overview_interviews_all_'+timestr+'.csv', sep=';', decimal=',')"
   ]
  },
  {
   "cell_type": "markdown",
   "metadata": {},
   "source": [
    "## grouped by country"
   ]
  },
  {
   "cell_type": "code",
   "execution_count": 5,
   "metadata": {},
   "outputs": [],
   "source": [
    "#calculate per country mean paragraph number, min&max, words per paragraph av etc.\n",
    "df_country_overview = pd.DataFrame()\n",
    "for x in set(df_interviews_overview['Country']):\n",
    "    df_count = df_interviews_overview[df_interviews_overview['Country']==x]\n",
    "    var_no_int = len(df_count)\n",
    "    var_tot_paras = df_count['Paragraphs'].sum()\n",
    "    var_tot_words = df_count['Words'].sum()\n",
    "    #calculate the averages (mean)\n",
    "    var_av_paras = round(var_tot_paras/var_no_int, 1)\n",
    "    var_av_words = round(var_tot_words/var_no_int,1)\n",
    "    var_av_words_per_para = round(var_tot_words/var_tot_paras, 1)\n",
    "    #calculate the median\n",
    "    var_med_paras = df_count['Paragraphs'].median()\n",
    "    var_med_words = df_count['Words'].median()\n",
    "    \n",
    "    #append row to dataframe\n",
    "    df_country_overview = df_country_overview.append({'Country':x, 'No_interviews':var_no_int,\n",
    "                    'Total_Paragraphs':var_tot_paras, 'Total_Words':var_tot_words, \\\n",
    "                    'Median_Para':var_med_paras, 'Median_Words':var_med_words, 'av_paras_per_int':var_av_paras, \n",
    "                    'av_words_per_int':var_av_words, 'av_words_per_para':var_av_words_per_para}, ignore_index=True)\n",
    "    \n",
    "    #state the interviews for each actor group\n",
    "    dict_class_no = {}\n",
    "    for y in set(df_interviews_overview['Class']):\n",
    "        dict_class_no[y] = len(df_count[df_count['Class']==y])\n",
    "    var_last = len(df_country_overview)-1\n",
    "    for z in dict_class_no:\n",
    "        df_country_overview.loc[var_last, z] = dict_class_no[z]\n",
    "    \n",
    "#include a row with the Total of all countries \n",
    "var_TOTAL_countries = len(df_country_overview) #number of countries in the dataframe\n",
    "var_ind = var_TOTAL_countries-1 #index of the last country\n",
    "\n",
    "var_TOTAL_int = df_country_overview.loc[:var_ind ,'No_interviews'].sum()\n",
    "var_TOTAL_paras = df_country_overview.loc[:var_ind, 'Total_Paragraphs'].sum()\n",
    "var_TOTAL_words = df_country_overview.loc[:var_ind, 'Total_Words'].sum()\n",
    "var_TOTAL_med_paras = df_country_overview.loc[:var_ind, 'Median_Para'].median()\n",
    "var_TOTAL_med_words = df_country_overview.loc[:var_ind, 'Median_Words'].median()\n",
    "    \n",
    "#append row to dataframe\n",
    "df_country_overview = df_country_overview.append({'Country':'TOTAL', 'No_interviews':var_TOTAL_int,\n",
    "        'Total_Paragraphs':var_TOTAL_paras, 'Total_Words':var_TOTAL_words,\n",
    "        'Median_Para':var_TOTAL_med_paras, 'Median_Words':var_TOTAL_med_words,                                           \n",
    "        'av_paras_per_int':round(var_TOTAL_paras/var_TOTAL_int, 1),\n",
    "        'av_words_per_int':round(var_TOTAL_words/var_TOTAL_int, 1),\n",
    "        'av_words_per_para':round(var_TOTAL_words/var_TOTAL_paras,1)}, ignore_index=True)\n",
    "for z in dict_class_no:\n",
    "    df_country_overview.loc[var_TOTAL_countries, z] = df_country_overview.loc[:var_TOTAL_countries, z].sum()"
   ]
  },
  {
   "cell_type": "code",
   "execution_count": 6,
   "metadata": {},
   "outputs": [],
   "source": [
    "df_country_overview.to_csv('.\\\\results\\overview_interviews\\qa_overview_interviews_by_country_'+timestr+'.csv',\n",
    "        sep=';', decimal=',')"
   ]
  },
  {
   "cell_type": "markdown",
   "metadata": {},
   "source": [
    "## grouped by actor classification"
   ]
  },
  {
   "cell_type": "code",
   "execution_count": 7,
   "metadata": {},
   "outputs": [],
   "source": [
    "#calculate per actors group mean paragraph number, min&max, words per paragraph average etc.\n",
    "df_class_overview = pd.DataFrame()\n",
    "for x in set(df_interviews_overview['Class']):\n",
    "    df_class = df_interviews_overview[df_interviews_overview['Class']==x]\n",
    "    var_no_int = len(df_class)\n",
    "    var_tot_paras = df_class['Paragraphs'].sum()\n",
    "    var_tot_words = df_class['Words'].sum()\n",
    "    var_av_paras = round(var_tot_paras/var_no_int, 1)\n",
    "    var_av_words = round(var_tot_words/var_no_int,1)\n",
    "    var_av_words_per_para = round(var_tot_words/var_tot_paras, 1)\n",
    "    #calculate the median\n",
    "    var_med_paras = df_class['Paragraphs'].median()\n",
    "    var_med_words = df_class['Words'].median()\n",
    "    \n",
    "    #append row to dataframe\n",
    "    df_class_overview = df_class_overview.append({'Class':x, 'No_interviews':var_no_int,\n",
    "                    'Total_Paragraphs':var_tot_paras, 'Total_Words':var_tot_words, \n",
    "                    'Median_Para':var_med_paras, 'Median_Words':var_med_words, 'Average_paras_per_int':var_av_paras, \n",
    "                    'Average_words_per_int':var_av_words, 'Average_words_per_para':var_av_words_per_para}, ignore_index=True)\n",
    "\n",
    "    #state the interviews for each country\n",
    "    dict_count_no = {}\n",
    "    for y in set(df_interviews_overview['Country']):\n",
    "        dict_count_no[y] = len(df_class[df_class['Country']==y])\n",
    "    var_last = len(df_class_overview)-1\n",
    "    for z in dict_count_no:\n",
    "        df_class_overview.loc[var_last, z] = dict_count_no[z]\n",
    "        \n",
    "#include a row with the Total of all actor classification groups\n",
    "var_TOTAL_class = len(df_class_overview) #number of countries in the dataframe\n",
    "var_ind = var_TOTAL_class-1 #index of the last country\n",
    "\n",
    "var_TOTAL_int = df_class_overview.loc[:var_ind ,'No_interviews'].sum()\n",
    "var_TOTAL_paras = df_class_overview.loc[:var_ind, 'Total_Paragraphs'].sum()\n",
    "var_TOTAL_words = df_class_overview.loc[:var_ind, 'Total_Words'].sum()\n",
    "\n",
    "var_TOTAL_med_paras = df_class_overview.loc[:var_ind, 'Median_Para'].median()\n",
    "var_TOTAL_med_words = df_class_overview.loc[:var_ind, 'Median_Words'].median()\n",
    "\n",
    "#append row to dataframe\n",
    "df_class_overview = df_class_overview.append({'Class':'TOTAL', 'No_interviews':var_TOTAL_int,\n",
    "        'Total_Paragraphs':var_TOTAL_paras, 'Total_Words':var_TOTAL_words,\n",
    "        'Median_Para':var_TOTAL_med_paras, 'Median_Words':var_TOTAL_med_words,                                           \n",
    "        'Average_paras_per_int':round(var_TOTAL_paras/var_TOTAL_int, 1),\n",
    "        'Average_words_per_int':round(var_TOTAL_words/var_TOTAL_int, 1),\n",
    "        'Average_words_per_para':round(var_TOTAL_words/var_TOTAL_paras,1)}, ignore_index=True)\n",
    "for z in dict_count_no:\n",
    "    df_class_overview.loc[var_TOTAL_class, z] = df_class_overview.loc[:var_TOTAL_class, z].sum()"
   ]
  },
  {
   "cell_type": "code",
   "execution_count": 8,
   "metadata": {},
   "outputs": [],
   "source": [
    "df_class_overview.to_csv('.\\\\results\\overview_interviews\\qa_overview_interviews_by_classification_'+timestr+'.csv',\n",
    "    sep=';', decimal=',')"
   ]
  },
  {
   "cell_type": "code",
   "execution_count": null,
   "metadata": {},
   "outputs": [],
   "source": []
  }
 ],
 "metadata": {
  "kernelspec": {
   "display_name": "Python 3",
   "language": "python",
   "name": "python3"
  },
  "language_info": {
   "codemirror_mode": {
    "name": "ipython",
    "version": 3
   },
   "file_extension": ".py",
   "mimetype": "text/x-python",
   "name": "python",
   "nbconvert_exporter": "python",
   "pygments_lexer": "ipython3",
   "version": "3.7.4"
  }
 },
 "nbformat": 4,
 "nbformat_minor": 2
}
