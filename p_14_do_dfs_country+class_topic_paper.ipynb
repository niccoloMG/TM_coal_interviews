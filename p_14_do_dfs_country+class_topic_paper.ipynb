{
 "cells": [
  {
   "cell_type": "code",
   "execution_count": 6,
   "metadata": {},
   "outputs": [],
   "source": [
    "import pandas as pd\n",
    "import time #to have today's date\n",
    "timestr = time.strftime(\"%Y%m%d\")"
   ]
  },
  {
   "cell_type": "code",
   "execution_count": 7,
   "metadata": {},
   "outputs": [],
   "source": [
    "df_docs_newNum_topics_country_class_order = \\\n",
    "    pd.read_csv('.//results//master_dfs//docs_newNum_topics_country_class_keywords_text_q_'+timestr+'_V01.csv',\n",
    "    sep=';', decimal=',', index_col=0)"
   ]
  },
  {
   "cell_type": "markdown",
   "metadata": {},
   "source": [
    "## do dataframes with topics per country and actor group"
   ]
  },
  {
   "cell_type": "code",
   "execution_count": 8,
   "metadata": {},
   "outputs": [],
   "source": [
    "#create list with all columns that should be added to the sum\n",
    "list_all_columns = df_docs_newNum_topics_country_class_order.columns\n",
    "list_to_sum = []\n",
    "for x in list_all_columns:\n",
    "    if 'perc_cont' in x:\n",
    "        list_to_sum.append(x)"
   ]
  },
  {
   "cell_type": "markdown",
   "metadata": {},
   "source": [
    "### per country"
   ]
  },
  {
   "cell_type": "code",
   "execution_count": 20,
   "metadata": {},
   "outputs": [],
   "source": [
    "#show the topics per country\n",
    "df_topics_country_gr = df_docs_newNum_topics_country_class_order.copy().\\\n",
    "    groupby(['Country'])[list_to_sum].sum().reset_index()"
   ]
  },
  {
   "cell_type": "code",
   "execution_count": 21,
   "metadata": {},
   "outputs": [],
   "source": [
    "#order of countries: (based on country hierarchical clustering)\n",
    "list_country_oder = ['DE', 'UK', 'CL', 'CO', 'US', 'KE', 'ZA', 'ID', 'IN', 'VN', 'PH', 'PK']\n",
    "df_topics_country_gr = df_topics_country_gr.set_index('Country').reindex(list_country_oder).reset_index()"
   ]
  },
  {
   "cell_type": "code",
   "execution_count": 22,
   "metadata": {},
   "outputs": [],
   "source": [
    "#create column with the sum of all percentages, e.g. the number of paragraphs (not 100%, because rounded)\n",
    "df_topics_country_gr['perc_total'] = df_topics_country_gr[list_to_sum].sum(axis=1)"
   ]
  },
  {
   "cell_type": "code",
   "execution_count": 23,
   "metadata": {},
   "outputs": [],
   "source": [
    "#make list with all the columns (to delete later on)\n",
    "list_topics_columns_paras = list_to_sum.copy()\n",
    "list_topics_columns_paras.append('perc_total')"
   ]
  },
  {
   "cell_type": "code",
   "execution_count": 24,
   "metadata": {},
   "outputs": [],
   "source": [
    "#get for each country the percentage for each topic\n",
    "#example: documents from country A consist to 10% of topic 1, to 60% topic 2, and 30% topic 3.\n",
    "#now the dataframe has the percentage for each topic. Divide by the number of texts per country. \n",
    "df_country_topics_share = df_topics_country_gr.copy()\n",
    "for x in df_country_topics_share.index:\n",
    "    for y in list_to_sum:\n",
    "        var_number = df_country_topics_share.loc[x,y]/df_country_topics_share.loc[x,'perc_total']*100\n",
    "        df_country_topics_share.loc[x, y+'_total'] = round(var_number,1)\n",
    "    \n",
    "#drop and rename columns\n",
    "n = 1\n",
    "for x in list_topics_columns_paras:\n",
    "    df_country_topics_share.drop(columns={x}, inplace=True)\n",
    "    df_country_topics_share.rename(columns={x+'_total':n}, inplace=True)\n",
    "    n+=1"
   ]
  },
  {
   "cell_type": "code",
   "execution_count": 26,
   "metadata": {},
   "outputs": [],
   "source": [
    "df_country_topics_share.to_csv('.//results//master_dfs//country_topics_share_'+timestr+'_V01.csv',\n",
    "    sep=';', decimal=',')"
   ]
  },
  {
   "cell_type": "markdown",
   "metadata": {},
   "source": [
    "### per actor group"
   ]
  },
  {
   "cell_type": "code",
   "execution_count": 52,
   "metadata": {},
   "outputs": [],
   "source": [
    "#show the topics per actors group\n",
    "df_topics_class_gr = df_docs_newNum_topics_country_class_order.copy().\\\n",
    "    groupby(['class'])[list_to_sum].sum().reset_index()"
   ]
  },
  {
   "cell_type": "code",
   "execution_count": 53,
   "metadata": {},
   "outputs": [],
   "source": [
    "#create column with the sum of all percentages, e.g. the number of paragraphs (not 100%, because rounded)\n",
    "df_topics_class_gr['perc_total'] = df_topics_class_gr[list_to_sum].sum(axis=1)"
   ]
  },
  {
   "cell_type": "code",
   "execution_count": 54,
   "metadata": {},
   "outputs": [],
   "source": [
    "#get for each actors group (Classification) the percentage for each topic\n",
    "#example: documents from actor group A consist to 10% of topic 1, to 60% topic 2, and 30% topic 3.\n",
    "#now the dataframe has the percentage for each topic. Divide by the number of texts per class. \n",
    "df_class_topics_share = df_topics_class_gr.copy()\n",
    "for x in df_class_topics_share.index:\n",
    "    for y in list_to_sum:\n",
    "        var_number = df_class_topics_share.loc[x,y]/df_class_topics_share.loc[x,'perc_total']*100\n",
    "        df_class_topics_share.loc[x, y+'_total'] = round(var_number,1)\n",
    "    \n",
    "#drop and rename columns\n",
    "n = 1\n",
    "for x in list_topics_columns_paras:\n",
    "    df_class_topics_share.drop(columns={x}, inplace=True)\n",
    "    df_class_topics_share.rename(columns={x+'_total':n}, inplace=True)\n",
    "    n+=1"
   ]
  },
  {
   "cell_type": "code",
   "execution_count": 55,
   "metadata": {},
   "outputs": [],
   "source": [
    "df_class_topics_share.to_csv('.//results//master_dfs//class_topics_share_'+timestr+'_V01.csv',\n",
    "    sep=';', decimal=',')"
   ]
  },
  {
   "cell_type": "markdown",
   "metadata": {},
   "source": [
    "### per country AND actor group"
   ]
  },
  {
   "cell_type": "code",
   "execution_count": 48,
   "metadata": {},
   "outputs": [],
   "source": [
    "#calculate, for each actor group in each country, which topics appear in their documents?\n",
    "#show the topics per country\n",
    "df_topics_country_class_gr = df_docs_newNum_topics_country_class_order.copy().\\\n",
    "    groupby(['Country', 'class'])[list_to_sum].sum().reset_index()"
   ]
  },
  {
   "cell_type": "code",
   "execution_count": 49,
   "metadata": {},
   "outputs": [],
   "source": [
    "#create column with the sum of all percentages, e.g. the number of paragraphs (not 100%, because rounded)\n",
    "df_topics_country_class_gr['perc_total'] = df_topics_country_class_gr[list_to_sum].sum(axis=1)"
   ]
  },
  {
   "cell_type": "code",
   "execution_count": 50,
   "metadata": {},
   "outputs": [],
   "source": [
    "#get for each actors group and country the percentage for each topic\n",
    "#example: documents from actor group A in country i consist to 10% of topic 1, to 60% topic 2, and 30% topic 3.\n",
    "#now the dataframe has the percentage for each topic. Divide by the number of texts per country+class. \n",
    "df_country_class_topics_share = df_topics_country_class_gr.copy()\n",
    "for x in df_country_class_topics_share.index:\n",
    "    for y in list_to_sum:\n",
    "        var_number = df_country_class_topics_share.loc[x,y]/df_country_class_topics_share.loc[x,'perc_total']*100\n",
    "        df_country_class_topics_share.loc[x, y+'_total'] = round(var_number,1)\n",
    "    \n",
    "#drop and rename columns\n",
    "n = 1\n",
    "for x in list_topics_columns_paras:\n",
    "    df_country_class_topics_share.drop(columns={x}, inplace=True)\n",
    "    df_country_class_topics_share.rename(columns={x+'_total':n}, inplace=True)\n",
    "    n+=1"
   ]
  },
  {
   "cell_type": "code",
   "execution_count": 51,
   "metadata": {},
   "outputs": [],
   "source": [
    "df_country_class_topics_share.to_csv('.//results//master_dfs//country_AND_class_topics_share_'+timestr+'_V01.csv',\n",
    "    sep=';', decimal=',')"
   ]
  },
  {
   "cell_type": "markdown",
   "metadata": {},
   "source": [
    "## calculate shares between countries for each topic, so each topic is 100%"
   ]
  },
  {
   "cell_type": "markdown",
   "metadata": {},
   "source": [
    "### per country"
   ]
  },
  {
   "cell_type": "code",
   "execution_count": 37,
   "metadata": {},
   "outputs": [],
   "source": [
    "#create column with the sum of all percentages, e.g. the number of paragraphs (not 100%, because rounded)\n",
    "df_a = df_topics_country_gr.copy()\n",
    "df_a = df_a.drop(columns=['perc_total'])\n",
    "df_topics_country_gr_T = df_a.set_index('Country').transpose().reset_index().rename(columns={'index':'Topic'})"
   ]
  },
  {
   "cell_type": "code",
   "execution_count": 39,
   "metadata": {},
   "outputs": [],
   "source": [
    "list_to_sum_T = list(df_topics_country_gr_T.columns)\n",
    "list_to_sum_T.remove('Topic')"
   ]
  },
  {
   "cell_type": "code",
   "execution_count": 40,
   "metadata": {},
   "outputs": [],
   "source": [
    "df_topics_country_gr_T['perc_total'] = df_topics_country_gr_T[list_to_sum_T].sum(axis=1)"
   ]
  },
  {
   "cell_type": "code",
   "execution_count": 41,
   "metadata": {},
   "outputs": [],
   "source": [
    "#make list with all the columns (to delete later on)\n",
    "list_countries_columns_paras_T = list_to_sum_T.append('perc_total')"
   ]
  },
  {
   "cell_type": "code",
   "execution_count": 42,
   "metadata": {},
   "outputs": [],
   "source": [
    "df_country_topics_share_T = pd.DataFrame({'Topic':df_topics_country_gr_T['Topic']} )\n",
    "var_num_count = len(list_to_sum_T)\n",
    "for x in df_country_topics_share_T.index:\n",
    "    var_share_100 = df_topics_country_gr_T.loc[x, 'perc_total']/100\n",
    "    for y in list_to_sum_T:\n",
    "         df_country_topics_share_T.loc[x, y] = round(df_topics_country_gr_T.loc[x,y]/var_share_100, 1)"
   ]
  },
  {
   "cell_type": "code",
   "execution_count": 43,
   "metadata": {},
   "outputs": [],
   "source": [
    "#index not from 0-21, but 1-22\n",
    "df_country_topics_share_T['idx'] = list(range(1,23))\n",
    "df_country_topics_share_T.set_index('idx', inplace=True)"
   ]
  },
  {
   "cell_type": "code",
   "execution_count": 44,
   "metadata": {},
   "outputs": [],
   "source": [
    "#remove the column with 'perc_total'\n",
    "df_country_topics_share_T.drop(columns=['perc_total', 'Topic'], inplace=True)"
   ]
  },
  {
   "cell_type": "code",
   "execution_count": 45,
   "metadata": {},
   "outputs": [
    {
     "data": {
      "text/html": [
       "<div>\n",
       "<style scoped>\n",
       "    .dataframe tbody tr th:only-of-type {\n",
       "        vertical-align: middle;\n",
       "    }\n",
       "\n",
       "    .dataframe tbody tr th {\n",
       "        vertical-align: top;\n",
       "    }\n",
       "\n",
       "    .dataframe thead th {\n",
       "        text-align: right;\n",
       "    }\n",
       "</style>\n",
       "<table border=\"1\" class=\"dataframe\">\n",
       "  <thead>\n",
       "    <tr style=\"text-align: right;\">\n",
       "      <th></th>\n",
       "      <th>DE</th>\n",
       "      <th>UK</th>\n",
       "      <th>CL</th>\n",
       "      <th>CO</th>\n",
       "      <th>US</th>\n",
       "      <th>KE</th>\n",
       "      <th>ZA</th>\n",
       "      <th>ID</th>\n",
       "      <th>IN</th>\n",
       "      <th>VN</th>\n",
       "      <th>PH</th>\n",
       "      <th>PK</th>\n",
       "    </tr>\n",
       "    <tr>\n",
       "      <th>idx</th>\n",
       "      <th></th>\n",
       "      <th></th>\n",
       "      <th></th>\n",
       "      <th></th>\n",
       "      <th></th>\n",
       "      <th></th>\n",
       "      <th></th>\n",
       "      <th></th>\n",
       "      <th></th>\n",
       "      <th></th>\n",
       "      <th></th>\n",
       "      <th></th>\n",
       "    </tr>\n",
       "  </thead>\n",
       "  <tbody>\n",
       "    <tr>\n",
       "      <th>1</th>\n",
       "      <td>9.7</td>\n",
       "      <td>6.2</td>\n",
       "      <td>9.6</td>\n",
       "      <td>6.3</td>\n",
       "      <td>4.9</td>\n",
       "      <td>9.8</td>\n",
       "      <td>13.5</td>\n",
       "      <td>7.7</td>\n",
       "      <td>14.8</td>\n",
       "      <td>6.3</td>\n",
       "      <td>9.1</td>\n",
       "      <td>2.1</td>\n",
       "    </tr>\n",
       "    <tr>\n",
       "      <th>2</th>\n",
       "      <td>10.6</td>\n",
       "      <td>2.3</td>\n",
       "      <td>9.9</td>\n",
       "      <td>19.7</td>\n",
       "      <td>3.2</td>\n",
       "      <td>5.1</td>\n",
       "      <td>5.4</td>\n",
       "      <td>6.2</td>\n",
       "      <td>19.5</td>\n",
       "      <td>4.1</td>\n",
       "      <td>10.0</td>\n",
       "      <td>3.9</td>\n",
       "    </tr>\n",
       "  </tbody>\n",
       "</table>\n",
       "</div>"
      ],
      "text/plain": [
       "       DE   UK   CL    CO   US   KE    ZA   ID    IN   VN    PH   PK\n",
       "idx                                                                 \n",
       "1     9.7  6.2  9.6   6.3  4.9  9.8  13.5  7.7  14.8  6.3   9.1  2.1\n",
       "2    10.6  2.3  9.9  19.7  3.2  5.1   5.4  6.2  19.5  4.1  10.0  3.9"
      ]
     },
     "execution_count": 45,
     "metadata": {},
     "output_type": "execute_result"
    }
   ],
   "source": [
    "df_country_topics_share_T.head(2)"
   ]
  },
  {
   "cell_type": "code",
   "execution_count": 46,
   "metadata": {},
   "outputs": [],
   "source": [
    "#transpose again, so the dataframe has the same shape as the one without T (df_country_topics_share)\n",
    "df_country_topics_share_T = df_country_topics_share_T.transpose().reset_index().rename(columns={'index':'Country'})"
   ]
  },
  {
   "cell_type": "code",
   "execution_count": 47,
   "metadata": {},
   "outputs": [],
   "source": [
    "df_country_topics_share_T.to_csv('.//results//master_dfs//country_topics_share_T_'+timestr+'_V01.csv',\n",
    "    sep=';', decimal=',')"
   ]
  },
  {
   "cell_type": "markdown",
   "metadata": {},
   "source": [
    "### per actors group"
   ]
  },
  {
   "cell_type": "code",
   "execution_count": 56,
   "metadata": {},
   "outputs": [],
   "source": [
    "#create column with the sum of all percentages, e.g. the number of paragraphs (not 100%, because rounded)\n",
    "df_b = df_topics_class_gr.copy()\n",
    "df_b = df_b.drop(columns=['perc_total'])\n",
    "df_topics_class_gr_T = df_b.set_index('class').transpose().reset_index().rename(columns={'index':'Topic'})\n",
    "\n",
    "list_to_sum_T = list(df_topics_class_gr_T.columns)\n",
    "list_to_sum_T.remove('Topic')\n",
    "\n",
    "df_topics_class_gr_T['perc_total'] = df_topics_class_gr_T[list_to_sum_T].sum(axis=1)\n",
    "\n",
    "#make list with all the columns (to delete later on)\n",
    "list_class_columns_paras_T = list_to_sum_T.append('perc_total')"
   ]
  },
  {
   "cell_type": "code",
   "execution_count": 57,
   "metadata": {},
   "outputs": [],
   "source": [
    "df_class_topics_share_T = pd.DataFrame({'Topic':df_topics_class_gr_T['Topic']} )\n",
    "var_num_count = len(list_to_sum_T)\n",
    "for x in df_class_topics_share_T.index:\n",
    "    var_share_100 = df_topics_class_gr_T.loc[x, 'perc_total']/100\n",
    "    for y in list_to_sum_T:\n",
    "         df_class_topics_share_T.loc[x, y] = round(df_topics_class_gr_T.loc[x,y]/var_share_100, 1)\n",
    "            \n",
    "#remove the column with 'perc_total'\n",
    "df_class_topics_share_T.drop(columns=['perc_total', 'Topic'], inplace=True)\n"
   ]
  },
  {
   "cell_type": "code",
   "execution_count": 58,
   "metadata": {},
   "outputs": [],
   "source": [
    "#index not from 0-21, but 1-22\n",
    "df_class_topics_share_T['idx'] = list(range(1,23))\n",
    "df_class_topics_share_T.set_index('idx', inplace=True)"
   ]
  },
  {
   "cell_type": "code",
   "execution_count": 59,
   "metadata": {},
   "outputs": [],
   "source": [
    "#transpose again, so the dataframe has the same shape as the one without T (df_country_topics_share)\n",
    "df_class_topics_share_T = df_class_topics_share_T.transpose().reset_index().rename(columns={'index':'class'})"
   ]
  },
  {
   "cell_type": "code",
   "execution_count": 60,
   "metadata": {},
   "outputs": [],
   "source": [
    "df_class_topics_share_T.to_csv('.//results//master_dfs//class_topics_share_T_'+timestr+'_V01.csv',\n",
    "    sep=';', decimal=',')"
   ]
  },
  {
   "cell_type": "markdown",
   "metadata": {},
   "source": [
    "### per country AND actor group"
   ]
  },
  {
   "cell_type": "code",
   "execution_count": 61,
   "metadata": {},
   "outputs": [],
   "source": [
    "#work on this one!!"
   ]
  },
  {
   "cell_type": "code",
   "execution_count": 62,
   "metadata": {},
   "outputs": [],
   "source": [
    "#create column with the sum of all percentages, e.g. the number of paragraphs (not 100%, because rounded)\n",
    "df_c= df_topics_country_class_gr.copy()\n",
    "df_c= df_c.drop(columns=['perc_total'])\n",
    "df_topics_country_class_gr_T = df_c.set_index(['Country', 'class']).transpose().reset_index().rename(columns={'index':'Topic'})\n",
    "\n",
    "list_to_sum_T = list(df_topics_country_class_gr_T.columns)\n",
    "list_to_sum_T.remove(('Topic', ''))\n",
    "\n",
    "df_topics_country_class_gr_T['perc_total'] = df_topics_country_class_gr_T[list_to_sum_T].sum(axis=1)\n",
    "\n",
    "#make list with all the columns (to delete later on)\n",
    "list_country_class_columns_paras_T = list_to_sum_T.append('perc_total')"
   ]
  },
  {
   "cell_type": "code",
   "execution_count": 63,
   "metadata": {},
   "outputs": [],
   "source": [
    "df_country_class_topics_share_T = pd.DataFrame({'Topic':df_topics_country_class_gr_T['Topic']} )\n",
    "var_num_count = len(list_to_sum_T)\n",
    "for x in df_country_class_topics_share_T.index:\n",
    "    var_share_100 = df_topics_country_class_gr_T.loc[x, 'perc_total'][0]/100\n",
    "    for y in list_to_sum_T:\n",
    "        df_country_class_topics_share_T.loc[x, [y]] = round(df_topics_country_class_gr_T.loc[x,[y]]/var_share_100, 1)\n",
    "        \n",
    "#remove the column with 'perc_total'\n",
    "df_country_class_topics_share_T.drop(columns=['perc_total', 'Topic'], inplace=True)"
   ]
  },
  {
   "cell_type": "code",
   "execution_count": 64,
   "metadata": {},
   "outputs": [],
   "source": [
    "#index not from 0-21, but 1-22\n",
    "df_country_class_topics_share_T['idx'] = list(range(1,23))\n",
    "df_country_class_topics_share_T.set_index('idx', inplace=True)"
   ]
  },
  {
   "cell_type": "code",
   "execution_count": 65,
   "metadata": {},
   "outputs": [],
   "source": [
    "#transpose\n",
    "df_country_class_topics_share_T = df_country_class_topics_share_T.transpose().reset_index()"
   ]
  },
  {
   "cell_type": "code",
   "execution_count": 66,
   "metadata": {},
   "outputs": [],
   "source": [
    "#now the 'index' column consists of tuples with the Country and the class. Split into columns\n",
    "new_col_list = ['Country', 'class']\n",
    "for n,col in enumerate(new_col_list):\n",
    "    df_country_class_topics_share_T[col] = df_country_class_topics_share_T['index'].apply(lambda location: location[n])\n",
    "\n",
    "df_country_class_topics_share_T = df_country_class_topics_share_T.drop('index',axis=1)"
   ]
  },
  {
   "cell_type": "code",
   "execution_count": 67,
   "metadata": {},
   "outputs": [],
   "source": [
    "#change order of columns\n",
    "list_a = list(df_country_class_topics_share_T.columns)\n",
    "list_a.remove('Country')\n",
    "list_a.remove('class')\n",
    "list_b = ['Country', 'class'] + list_a\n",
    "df_country_class_topics_share_T = df_country_class_topics_share_T[list_b]"
   ]
  },
  {
   "cell_type": "code",
   "execution_count": 68,
   "metadata": {},
   "outputs": [],
   "source": [
    "df_country_class_topics_share_T.to_csv('.//results//master_dfs//country_AND_class_topics_share_T_'+timestr+'_V01.csv',\n",
    "    sep=';', decimal=',')"
   ]
  },
  {
   "cell_type": "code",
   "execution_count": null,
   "metadata": {},
   "outputs": [],
   "source": []
  }
 ],
 "metadata": {
  "kernelspec": {
   "display_name": "Python 3",
   "language": "python",
   "name": "python3"
  },
  "language_info": {
   "codemirror_mode": {
    "name": "ipython",
    "version": 3
   },
   "file_extension": ".py",
   "mimetype": "text/x-python",
   "name": "python",
   "nbconvert_exporter": "python",
   "pygments_lexer": "ipython3",
   "version": "3.7.4"
  }
 },
 "nbformat": 4,
 "nbformat_minor": 2
}
