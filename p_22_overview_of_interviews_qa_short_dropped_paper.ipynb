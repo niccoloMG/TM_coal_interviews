{
 "cells": [
  {
   "cell_type": "markdown",
   "metadata": {},
   "source": [
    "## Import Libraries"
   ]
  },
  {
   "cell_type": "code",
   "execution_count": 5,
   "metadata": {},
   "outputs": [],
   "source": [
    "import pandas as pd #to work with DataFrames\n",
    "\n",
    "import time #to have today's date\n",
    "timestr = time.strftime(\"%Y%m%d\")"
   ]
  },
  {
   "cell_type": "code",
   "execution_count": 17,
   "metadata": {},
   "outputs": [],
   "source": [
    "var_time_a = '20220517'\n",
    "df_master_docs = pd.read_csv('.//results//master_dfs//docs_newNum_topics_country_class_keywords_text_q_'+var_time_a+'_V01.csv',\n",
    "    sep=';', decimal=',', index_col=0)"
   ]
  },
  {
   "cell_type": "markdown",
   "metadata": {},
   "source": [
    "## for countries"
   ]
  },
  {
   "cell_type": "code",
   "execution_count": 18,
   "metadata": {},
   "outputs": [],
   "source": [
    "list_new_country_order = ['DE', 'UK', 'CL', 'CO', 'US', 'KE', 'ZA', 'ID', 'IN', 'VN', 'PH', 'PK']"
   ]
  },
  {
   "cell_type": "code",
   "execution_count": 57,
   "metadata": {},
   "outputs": [],
   "source": [
    "df_overview_10_countries = pd.DataFrame()"
   ]
  },
  {
   "cell_type": "code",
   "execution_count": 58,
   "metadata": {},
   "outputs": [],
   "source": [
    "# add countries and number of interviews to df:\n",
    "for x in list_new_country_order:\n",
    "    df_x = df_master_docs[df_master_docs['Country']==x]\n",
    "    var_no_interviews = df_x['no_interview'].max()\n",
    "    var_no_docs = len(df_x)\n",
    "    var_no_words = 0\n",
    "    for t in df_x['Text']:\n",
    "        tr = t.replace('  ', '').replace('<q/start>', '').replace('<q/end>', '')\n",
    "        var_no_words += len(tr.split(' '))\n",
    "    #calculate mean values\n",
    "    var_docs_int = round(var_no_docs/var_no_interviews, 1)\n",
    "    var_words_int = round(var_no_words/var_no_interviews, 1)\n",
    "    var_words_doc = round(var_no_words/var_no_docs , 1)\n",
    "    #add row to df\n",
    "    df_overview_10_countries = df_overview_10_countries.append({'Country':x, \\\n",
    "            'Interviews':var_no_interviews, 'Documents':var_no_docs, 'Words':var_no_words, \\\n",
    "            'docs_per_int':var_docs_int, 'words_per_int':var_words_int, 'words_per_doc':var_words_doc}, ignore_index=True)\n",
    "\n",
    "#add total to end of df\n",
    "var_total_int = df_overview_10_countries['Interviews'].sum()\n",
    "var_total_docs = df_overview_10_countries['Documents'].sum()\n",
    "var_total_words = df_overview_10_countries['Words'].sum()\n",
    "var_total_docs_int = round(var_total_docs/var_total_int, 1)\n",
    "var_total_words_int = round(var_total_words/var_total_int, 1)\n",
    "var_total_words_doc = round(var_total_words/var_total_docs, 1)\n",
    "\n",
    "df_overview_10_countries = df_overview_10_countries.append({'Country':'TOTAL', \\\n",
    "            'Interviews':var_total_int, 'Documents':var_total_docs, 'Words':var_total_words, \\\n",
    "            'docs_per_int':var_total_docs_int, 'words_per_int':var_total_words_int, \\\n",
    "            'words_per_doc':var_total_words_doc}, ignore_index=True)"
   ]
  },
  {
   "cell_type": "code",
   "execution_count": 60,
   "metadata": {},
   "outputs": [],
   "source": [
    "df_overview_10_countries.to_csv('.\\\\results\\overview_interviews\\qa_long_overview_interviews_by_country_'+timestr+'.csv',\n",
    "        sep=';', decimal=',')"
   ]
  },
  {
   "cell_type": "markdown",
   "metadata": {},
   "source": [
    "## for actor groups"
   ]
  },
  {
   "cell_type": "code",
   "execution_count": 64,
   "metadata": {},
   "outputs": [],
   "source": [
    "list_order_actors = ['econ', 'poli', 'socint', 'socnat']"
   ]
  },
  {
   "cell_type": "code",
   "execution_count": 82,
   "metadata": {},
   "outputs": [],
   "source": [
    "df_overview_10_actors = pd.DataFrame()"
   ]
  },
  {
   "cell_type": "code",
   "execution_count": 84,
   "metadata": {},
   "outputs": [],
   "source": [
    "for x in list_order_actors:\n",
    "    df_x = df_master_docs[df_master_docs['class']==x]\n",
    "    df_x_r = df_x.reset_index(drop=True)\n",
    "    df_x_gr = df_x_r.reset_index(drop=True).groupby(['Country', 'no_interview'])[['Text']].sum()\n",
    "    var_no_interviews = len(df_x_gr)\n",
    "    var_no_docs = len(df_x)\n",
    "    var_no_words = 0\n",
    "    for t in df_x['Text']:\n",
    "        tr = t.replace('  ', '').replace('<q/start>', '').replace('<q/end>', '')\n",
    "        var_no_words += len(tr.split(' '))\n",
    "    #calculate mean values\n",
    "    var_docs_int = round(var_no_docs/var_no_interviews, 1)\n",
    "    var_words_int = round(var_no_words/var_no_interviews, 1)\n",
    "    var_words_doc = round(var_no_words/var_no_docs , 1)\n",
    "    #add row to df\n",
    "    df_overview_10_actors = df_overview_10_actors.append({'Class':x, \\\n",
    "            'Interviews':var_no_interviews, 'Documents':var_no_docs, 'Words':var_no_words, \\\n",
    "            'docs_per_int':var_docs_int, 'words_per_int':var_words_int, 'words_per_doc':var_words_doc}, ignore_index=True)\n",
    "\n",
    "#add total to end of df\n",
    "var_total_int = df_overview_10_actors['Interviews'].sum()\n",
    "var_total_docs = df_overview_10_actors['Documents'].sum()\n",
    "var_total_words = df_overview_10_actors['Words'].sum()\n",
    "var_total_docs_int = round(var_total_docs/var_total_int, 1)\n",
    "var_total_words_int = round(var_total_words/var_total_int, 1)\n",
    "var_total_words_doc = round(var_total_words/var_total_docs, 1)\n",
    "\n",
    "df_overview_10_actors = df_overview_10_actors.append({'Class':'TOTAL', \\\n",
    "            'Interviews':var_total_int, 'Documents':var_total_docs, 'Words':var_total_words, \\\n",
    "            'docs_per_int':var_total_docs_int, 'words_per_int':var_total_words_int, \\\n",
    "            'words_per_doc':var_total_words_doc}, ignore_index=True)"
   ]
  },
  {
   "cell_type": "code",
   "execution_count": 86,
   "metadata": {},
   "outputs": [
    {
     "data": {
      "text/html": [
       "<div>\n",
       "<style scoped>\n",
       "    .dataframe tbody tr th:only-of-type {\n",
       "        vertical-align: middle;\n",
       "    }\n",
       "\n",
       "    .dataframe tbody tr th {\n",
       "        vertical-align: top;\n",
       "    }\n",
       "\n",
       "    .dataframe thead th {\n",
       "        text-align: right;\n",
       "    }\n",
       "</style>\n",
       "<table border=\"1\" class=\"dataframe\">\n",
       "  <thead>\n",
       "    <tr style=\"text-align: right;\">\n",
       "      <th></th>\n",
       "      <th>Class</th>\n",
       "      <th>Interviews</th>\n",
       "      <th>Documents</th>\n",
       "      <th>Words</th>\n",
       "      <th>docs_per_int</th>\n",
       "      <th>words_per_int</th>\n",
       "      <th>words_per_doc</th>\n",
       "    </tr>\n",
       "  </thead>\n",
       "  <tbody>\n",
       "    <tr>\n",
       "      <th>0</th>\n",
       "      <td>econ</td>\n",
       "      <td>50.0</td>\n",
       "      <td>1133.0</td>\n",
       "      <td>271059.0</td>\n",
       "      <td>22.7</td>\n",
       "      <td>5421.2</td>\n",
       "      <td>239.2</td>\n",
       "    </tr>\n",
       "    <tr>\n",
       "      <th>1</th>\n",
       "      <td>poli</td>\n",
       "      <td>63.0</td>\n",
       "      <td>1507.0</td>\n",
       "      <td>335473.0</td>\n",
       "      <td>23.9</td>\n",
       "      <td>5325.0</td>\n",
       "      <td>222.6</td>\n",
       "    </tr>\n",
       "    <tr>\n",
       "      <th>2</th>\n",
       "      <td>socint</td>\n",
       "      <td>27.0</td>\n",
       "      <td>673.0</td>\n",
       "      <td>151207.0</td>\n",
       "      <td>24.9</td>\n",
       "      <td>5600.3</td>\n",
       "      <td>224.7</td>\n",
       "    </tr>\n",
       "    <tr>\n",
       "      <th>3</th>\n",
       "      <td>socnat</td>\n",
       "      <td>72.0</td>\n",
       "      <td>1673.0</td>\n",
       "      <td>439891.0</td>\n",
       "      <td>23.2</td>\n",
       "      <td>6109.6</td>\n",
       "      <td>262.9</td>\n",
       "    </tr>\n",
       "    <tr>\n",
       "      <th>4</th>\n",
       "      <td>TOTAL</td>\n",
       "      <td>212.0</td>\n",
       "      <td>4986.0</td>\n",
       "      <td>1197630.0</td>\n",
       "      <td>23.5</td>\n",
       "      <td>5649.2</td>\n",
       "      <td>240.2</td>\n",
       "    </tr>\n",
       "  </tbody>\n",
       "</table>\n",
       "</div>"
      ],
      "text/plain": [
       "    Class  Interviews  Documents      Words  docs_per_int  words_per_int  \\\n",
       "0    econ        50.0     1133.0   271059.0          22.7         5421.2   \n",
       "1    poli        63.0     1507.0   335473.0          23.9         5325.0   \n",
       "2  socint        27.0      673.0   151207.0          24.9         5600.3   \n",
       "3  socnat        72.0     1673.0   439891.0          23.2         6109.6   \n",
       "4   TOTAL       212.0     4986.0  1197630.0          23.5         5649.2   \n",
       "\n",
       "   words_per_doc  \n",
       "0          239.2  \n",
       "1          222.6  \n",
       "2          224.7  \n",
       "3          262.9  \n",
       "4          240.2  "
      ]
     },
     "execution_count": 86,
     "metadata": {},
     "output_type": "execute_result"
    }
   ],
   "source": [
    "df_overview_10_actors"
   ]
  },
  {
   "cell_type": "code",
   "execution_count": 87,
   "metadata": {},
   "outputs": [],
   "source": [
    "df_overview_10_actors.to_csv('.\\\\results\\overview_interviews\\qa_long_overview_interviews_by_classification_'+timestr+'.csv',\n",
    "    sep=';', decimal=',')"
   ]
  },
  {
   "cell_type": "code",
   "execution_count": null,
   "metadata": {},
   "outputs": [],
   "source": []
  },
  {
   "cell_type": "code",
   "execution_count": null,
   "metadata": {},
   "outputs": [],
   "source": []
  }
 ],
 "metadata": {
  "kernelspec": {
   "display_name": "Python 3",
   "language": "python",
   "name": "python3"
  },
  "language_info": {
   "codemirror_mode": {
    "name": "ipython",
    "version": 3
   },
   "file_extension": ".py",
   "mimetype": "text/x-python",
   "name": "python",
   "nbconvert_exporter": "python",
   "pygments_lexer": "ipython3",
   "version": "3.7.4"
  }
 },
 "nbformat": 4,
 "nbformat_minor": 2
}
