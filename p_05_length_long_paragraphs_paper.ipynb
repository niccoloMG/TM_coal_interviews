{
 "cells": [
  {
   "cell_type": "code",
   "execution_count": 1,
   "metadata": {},
   "outputs": [],
   "source": [
    "import matplotlib\n",
    "import matplotlib.pyplot as plt\n",
    "import time #to have today's date\n",
    "timestr = time.strftime(\"%Y%m%d\")"
   ]
  },
  {
   "cell_type": "code",
   "execution_count": 2,
   "metadata": {},
   "outputs": [
    {
     "name": "stderr",
     "output_type": "stream",
     "text": [
      "[nltk_data] Downloading package stopwords to\n",
      "[nltk_data]     C:\\Users\\mann\\AppData\\Roaming\\nltk_data...\n",
      "[nltk_data]   Package stopwords is already up-to-date!\n",
      "[nltk_data] Downloading package wordnet to\n",
      "[nltk_data]     C:\\Users\\mann\\AppData\\Roaming\\nltk_data...\n",
      "[nltk_data]   Package wordnet is already up-to-date!\n"
     ]
    }
   ],
   "source": [
    "#get the dataframe with each paragraph from another notebook\n",
    "%run ./p_03_prepare_text_paper.ipynb\n",
    "#df_all_interviews_qa dataframe with each document (original text), the respective country and actor classification\n",
    "#df_paras_and_clean dataframe with the original text and the clean words for each document\n",
    "#list_wordcount_drop = [0, 1, 2, 5, 7, 10, 20, 50]"
   ]
  },
  {
   "cell_type": "code",
   "execution_count": 4,
   "metadata": {},
   "outputs": [],
   "source": [
    "#merge the df_all_interviews with the df_paras_and_clean to get clean words for each interview\n",
    "df_basis = df_all_interviews.merge(df_paras_and_clean)\n",
    "##the lenght should be the lenght of df_paras_and_clean, but: len(df_basis) = 5341. "
   ]
  },
  {
   "cell_type": "code",
   "execution_count": 5,
   "metadata": {},
   "outputs": [],
   "source": [
    "#add column with the number of words\n",
    "for x in df_basis.index:\n",
    "    df_basis.loc[x,'num_words_Text'] = len(df_basis.loc[x, 'Text'].strip().split(\" \"))\n",
    "    df_basis.loc[x,'num_words_Clean'] = len(df_basis.loc[x, 'Clean_words'])"
   ]
  },
  {
   "cell_type": "code",
   "execution_count": 6,
   "metadata": {},
   "outputs": [],
   "source": [
    "#check: what's the average lenght of the original text for lenght of clean doc = range(0,10)\n",
    "list_range_x = list(range(1,11))"
   ]
  },
  {
   "cell_type": "code",
   "execution_count": 7,
   "metadata": {},
   "outputs": [],
   "source": [
    "#drop all documents, with clean words len >x\n",
    "df_basis_short = pd.DataFrame()\n",
    "for x in df_basis.index:\n",
    "    if df_basis.loc[x, 'num_words_Clean'] <= max(list_range_x):\n",
    "        df_basis_short = df_basis_short.append(df_basis.loc[x,:])\n",
    "df_basis_short.reset_index(drop=True, inplace=True)"
   ]
  },
  {
   "cell_type": "markdown",
   "metadata": {},
   "source": [
    "## make boxplots"
   ]
  },
  {
   "cell_type": "markdown",
   "metadata": {},
   "source": [
    "### for each x"
   ]
  },
  {
   "cell_type": "code",
   "execution_count": 8,
   "metadata": {},
   "outputs": [],
   "source": [
    "#make df, each column is a clean word length and the rows are original text lenghts\n",
    "df_x_col = pd.DataFrame() \n",
    "for x in list_range_x:\n",
    "    df_x = df_basis[df_basis['num_words_Clean']==x][['num_words_Text']].rename(columns=({'num_words_Text':x}))\n",
    "    df_x.reset_index(drop=True, inplace=True)\n",
    "    df_x_col = pd.concat([df_x_col, df_x], axis=1).reset_index(drop=True) "
   ]
  },
  {
   "cell_type": "code",
   "execution_count": 9,
   "metadata": {},
   "outputs": [],
   "source": [
    "#do table with the stats\n",
    "df_equal_x_stats = df_x_col.describe()\n",
    "df_equal_x_stats.to_csv('.//results//LDA_set_parameters//word_drop_lda//qa_df_equal_x_stats_'+timestr+'.csv',\n",
    "    sep=';', decimal=',')"
   ]
  },
  {
   "cell_type": "code",
   "execution_count": 10,
   "metadata": {},
   "outputs": [
    {
     "name": "stderr",
     "output_type": "stream",
     "text": [
      "c:\\users\\mann\\appdata\\local\\programs\\python\\python37-32\\lib\\site-packages\\matplotlib\\cbook\\__init__.py:1426: VisibleDeprecationWarning: Creating an ndarray from ragged nested sequences (which is a list-or-tuple of lists-or-tuples-or ndarrays with different lengths or shapes) is deprecated. If you meant to do this, you must specify 'dtype=object' when creating the ndarray.\n",
      "  X = np.atleast_1d(X.T if isinstance(X, np.ndarray) else np.asarray(X))\n"
     ]
    },
    {
     "data": {
      "image/png": "[encoded data removed]",
      "text/plain": [
       "<Figure size 864x432 with 1 Axes>"
      ]
     },
     "metadata": {
      "needs_background": "light"
     },
     "output_type": "display_data"
    }
   ],
   "source": [
    "fig, ax1 = plt.subplots(figsize=(12,6))\n",
    "\n",
    "ax1.boxplot([df_x_col[1].dropna(),df_x_col[2].dropna(), df_x_col[3].dropna(),df_x_col[4].dropna(),\\\n",
    "          df_x_col[5].dropna(),df_x_col[6].dropna(), df_x_col[7].dropna(), df_x_col[8].dropna(),\\\n",
    "            df_x_col[9].dropna(),df_x_col[10].dropna()])\n",
    "\n",
    "for x in ['top', 'right']: #left\n",
    "    ax1.spines[x].set_visible(False) \n",
    "\n",
    "ax1.set_xlabel('Number of clean words', fontsize=10)\n",
    "ax1.set_ylabel('Length of original documents', fontsize=10)\n",
    "ax1.set_xticklabels(list(df_x_col.columns), fontsize=10)\n",
    "\n",
    "#save graph\n",
    "plt.savefig('.\\\\results\\\\overview_paragraphs\\\\qa_Lenghts_original_for_clean=x_'+timestr+'.png', \\\n",
    "                bbox_inches=\"tight\") #V01 is without PART; FDG; NOX\n",
    "    \n",
    "plt.show()"
   ]
  },
  {
   "cell_type": "markdown",
   "metadata": {},
   "source": [
    "### for all answers <=x"
   ]
  },
  {
   "cell_type": "code",
   "execution_count": 11,
   "metadata": {},
   "outputs": [],
   "source": [
    "#make graph, check boxplots for all docs with <=x words\n",
    "#make graph, check boxplots when we only consider >x words\n",
    "#make df, each column is a clean word length and the rows are original text lenghts\n",
    "df_shorter_x = pd.DataFrame() \n",
    "list_wordcount_drop_no_0 = list_wordcount_drop.copy()\n",
    "list_wordcount_drop_no_0.remove(0)\n",
    "for x in list_wordcount_drop_no_0:\n",
    "    df_x = df_basis[df_basis['num_words_Clean']<=x][['num_words_Text']].rename(columns=({'num_words_Text':'<='+str(x)}))\n",
    "    df_x.reset_index(drop=True, inplace=True)\n",
    "    df_shorter_x = pd.concat([df_shorter_x, df_x], axis=1).reset_index(drop=True) "
   ]
  },
  {
   "cell_type": "code",
   "execution_count": 12,
   "metadata": {},
   "outputs": [],
   "source": [
    "#do table with the stats\n",
    "df_shorter_x_stats = df_shorter_x.describe()\n",
    "df_shorter_x_stats.to_csv('.//results//LDA_set_parameters//word_drop_lda//qa_df_shorter_x_stats_'+timestr+'.csv',\n",
    "    sep=';', decimal=',')"
   ]
  },
  {
   "cell_type": "code",
   "execution_count": 13,
   "metadata": {},
   "outputs": [
    {
     "name": "stderr",
     "output_type": "stream",
     "text": [
      "c:\\users\\mann\\appdata\\local\\programs\\python\\python37-32\\lib\\site-packages\\matplotlib\\cbook\\__init__.py:1426: VisibleDeprecationWarning: Creating an ndarray from ragged nested sequences (which is a list-or-tuple of lists-or-tuples-or ndarrays with different lengths or shapes) is deprecated. If you meant to do this, you must specify 'dtype=object' when creating the ndarray.\n",
      "  X = np.atleast_1d(X.T if isinstance(X, np.ndarray) else np.asarray(X))\n"
     ]
    },
    {
     "data": {
      "image/png": "[encoded data removed]",
      "text/plain": [
       "<Figure size 864x432 with 1 Axes>"
      ]
     },
     "metadata": {
      "needs_background": "light"
     },
     "output_type": "display_data"
    }
   ],
   "source": [
    "fig, ax1 = plt.subplots(figsize=(12,6))\n",
    "\n",
    "ax1.boxplot([df_shorter_x['<=1'].dropna(), df_shorter_x['<=2'].dropna(),df_shorter_x['<=5'].dropna(),\\\n",
    "          df_shorter_x['<=7'].dropna(),df_shorter_x['<=10'].dropna(), df_shorter_x['<=20'].dropna(), df_shorter_x['<=50'].dropna()])\n",
    "\n",
    "for x in ['top', 'right']: #left\n",
    "    ax1.spines[x].set_visible(False) \n",
    "\n",
    "ax1.set_xlabel('Number of clean words', fontsize=10)\n",
    "ax1.set_ylabel('Length of original documents', fontsize=10)\n",
    "ax1.set_xticklabels(list(df_shorter_x.columns), fontsize=10)\n",
    "\n",
    "#save graph\n",
    "plt.savefig('.\\\\results\\\\overview_paragraphs\\\\qa_Lenghts_original_for_clean_SHORTER_x_'+timestr+'.png', \\\n",
    "                bbox_inches=\"tight\") #V01 is without PART; FDG; NOX\n",
    "    \n",
    "plt.show()"
   ]
  },
  {
   "cell_type": "markdown",
   "metadata": {},
   "source": [
    "### for all docs >x"
   ]
  },
  {
   "cell_type": "code",
   "execution_count": 14,
   "metadata": {},
   "outputs": [],
   "source": [
    "#make graph, check boxplots when we only consider >x words\n",
    "#make df, each column is a clean word length and the rows are original text lenghts\n",
    "df_longer_x = pd.DataFrame() \n",
    "for x in list_wordcount_drop:\n",
    "    df_x = df_basis[df_basis['num_words_Clean']>x][['num_words_Text']].rename(columns=({'num_words_Text':'>'+str(x)}))\n",
    "    df_x.reset_index(drop=True, inplace=True)\n",
    "    df_longer_x = pd.concat([df_longer_x, df_x], axis=1).reset_index(drop=True) "
   ]
  },
  {
   "cell_type": "code",
   "execution_count": 15,
   "metadata": {},
   "outputs": [],
   "source": [
    "#do table with the stats\n",
    "df_longer_x_stats = df_longer_x.describe()\n",
    "df_longer_x_stats.to_csv('.//results//LDA_set_parameters//word_drop_lda//qa_df_longer_x_stats_'+timestr+'.csv',\n",
    "    sep=';', decimal=',')"
   ]
  },
  {
   "cell_type": "code",
   "execution_count": 16,
   "metadata": {},
   "outputs": [
    {
     "name": "stderr",
     "output_type": "stream",
     "text": [
      "c:\\users\\mann\\appdata\\local\\programs\\python\\python37-32\\lib\\site-packages\\matplotlib\\cbook\\__init__.py:1426: VisibleDeprecationWarning: Creating an ndarray from ragged nested sequences (which is a list-or-tuple of lists-or-tuples-or ndarrays with different lengths or shapes) is deprecated. If you meant to do this, you must specify 'dtype=object' when creating the ndarray.\n",
      "  X = np.atleast_1d(X.T if isinstance(X, np.ndarray) else np.asarray(X))\n"
     ]
    },
    {
     "data": {
      "image/png": "[encoded data removed]",
      "text/plain": [
       "<Figure size 864x432 with 1 Axes>"
      ]
     },
     "metadata": {
      "needs_background": "light"
     },
     "output_type": "display_data"
    }
   ],
   "source": [
    "fig, ax1 = plt.subplots(figsize=(12,6))\n",
    "\n",
    "ax1.boxplot([df_longer_x['>0'].dropna(),df_longer_x['>1'].dropna(), df_longer_x['>2'].dropna(),df_longer_x['>5'].dropna(),\\\n",
    "          df_longer_x['>7'].dropna(),df_longer_x['>10'].dropna(), df_longer_x['>20'].dropna(), df_longer_x['>50'].dropna()])\n",
    "\n",
    "for x in ['top', 'right']: #left\n",
    "    ax1.spines[x].set_visible(False) \n",
    "\n",
    "ax1.set_xlabel('Number of clean words', fontsize=10)\n",
    "ax1.set_ylabel('Length of original documents', fontsize=10)\n",
    "ax1.set_xticklabels(list(df_longer_x.columns), fontsize=10)\n",
    "\n",
    "#save graph\n",
    "plt.savefig('.\\\\results\\\\overview_paragraphs\\\\qa_Lenghts_original_for_clean_BIGGER_x_'+timestr+'.png', \\\n",
    "                bbox_inches=\"tight\") #V01 is without PART; FDG; NOX\n",
    "    \n",
    "plt.show()"
   ]
  },
  {
   "cell_type": "code",
   "execution_count": 17,
   "metadata": {},
   "outputs": [
    {
     "name": "stderr",
     "output_type": "stream",
     "text": [
      "c:\\users\\mann\\appdata\\local\\programs\\python\\python37-32\\lib\\site-packages\\matplotlib\\cbook\\__init__.py:1426: VisibleDeprecationWarning: Creating an ndarray from ragged nested sequences (which is a list-or-tuple of lists-or-tuples-or ndarrays with different lengths or shapes) is deprecated. If you meant to do this, you must specify 'dtype=object' when creating the ndarray.\n",
      "  X = np.atleast_1d(X.T if isinstance(X, np.ndarray) else np.asarray(X))\n"
     ]
    },
    {
     "data": {
      "image/png": "[encoded data removed]",
      "text/plain": [
       "<Figure size 864x432 with 1 Axes>"
      ]
     },
     "metadata": {
      "needs_background": "light"
     },
     "output_type": "display_data"
    }
   ],
   "source": [
    "fig, ax1 = plt.subplots(figsize=(12,6))\n",
    "\n",
    "ax1.boxplot([df_longer_x['>0'].dropna(),df_longer_x['>1'].dropna(), df_longer_x['>2'].dropna(),df_longer_x['>5'].dropna(),\\\n",
    "          df_longer_x['>7'].dropna(),df_longer_x['>10'].dropna(), df_longer_x['>20'].dropna(), df_longer_x['>50'].dropna()])\n",
    "\n",
    "for x in ['top', 'right']: #left\n",
    "    ax1.spines[x].set_visible(False) \n",
    "\n",
    "ax1.set_xlabel('Number of clean words', fontsize=10)\n",
    "ax1.set_ylabel('Length of original documents', fontsize=10)\n",
    "ax1.set_xticklabels(list(df_longer_x.columns), fontsize=10)\n",
    "\n",
    "#change y-axis range\n",
    "plt.ylim(0, 800)\n",
    "\n",
    "#save graph\n",
    "plt.savefig('.\\\\results\\\\overview_paragraphs\\\\qa_Lenghts_original_for_clean_BIGGER_x_yrange_'+timestr+'.png', \\\n",
    "                bbox_inches=\"tight\") #V01 is without PART; FDG; NOX\n",
    "    \n",
    "plt.show()"
   ]
  },
  {
   "cell_type": "markdown",
   "metadata": {},
   "source": [
    "## show clean words of short documents for each country"
   ]
  },
  {
   "cell_type": "code",
   "execution_count": 18,
   "metadata": {},
   "outputs": [],
   "source": [
    "#make df to see the short docs (clean words) per country\n",
    "df_short_words_country = pd.DataFrame()\n",
    "for x in set(df_basis['Country']):\n",
    "    df_x = df_basis[df_basis['Country']==x]\n",
    "    df_x = df_x.rename(columns={'Clean_words':x+'_Clean'}).sort_values('num_words_Clean')\\\n",
    "            [[x+'_Clean']].reset_index(drop=True)\n",
    "    df_short_words_country = pd.concat([df_short_words_country, df_x], axis=1).reset_index(drop=True) "
   ]
  },
  {
   "cell_type": "code",
   "execution_count": 19,
   "metadata": {},
   "outputs": [],
   "source": [
    "df_short_words_country.to_csv('.//results//overview_paragraphs//qa_Country_short_clean_words_'+timestr+'_V01.csv',\n",
    "    sep=';', decimal=',')"
   ]
  },
  {
   "cell_type": "markdown",
   "metadata": {},
   "source": [
    "## show documents per country below word limit"
   ]
  },
  {
   "cell_type": "markdown",
   "metadata": {},
   "source": [
    "### for number of documents"
   ]
  },
  {
   "cell_type": "code",
   "execution_count": 20,
   "metadata": {},
   "outputs": [],
   "source": [
    "dict_counts = {}\n",
    "for c_a in ['Country', 'class']:\n",
    "    for text_clean in ['num_words_Text', 'num_words_Clean']:\n",
    "        df_count_words = df_basis.groupby([c_a,text_clean], as_index=False)[['no_interview']].count()\n",
    "        piv_count_words = pd.pivot_table(df_count_words, values=\"no_interview\",\\\n",
    "                         index=[text_clean], columns=[c_a], fill_value=0)\n",
    "        piv_count_words_clustered = piv_count_words.copy()\n",
    "        piv_count_words_clustered.reset_index(inplace=True)\n",
    "        piv_count_words_clustered.columns.name = None\n",
    "        piv_count_words_clustered.index.rename('Index', inplace=True)\n",
    "\n",
    "        df_clust = pd.DataFrame()\n",
    "        list_a = list(piv_count_words_clustered.columns)\n",
    "        list_a.remove(text_clean)\n",
    "\n",
    "        for x in [1,2,5,7,10,20,50,75,100, 200,500, 1000, 2000, 5000, 10000]:\n",
    "            var_n = 0\n",
    "            dict_row = {}\n",
    "            df = piv_count_words_clustered[piv_count_words_clustered[text_clean]<=x]\n",
    "            for y in list_a:\n",
    "                var_no = df[y].sum()\n",
    "                dict_row[y] = var_no\n",
    "                var_n += var_no\n",
    "            dict_row['<=x'] = x\n",
    "            dict_row['total'] = var_n\n",
    "            df_clust = df_clust.append(dict_row, ignore_index=True)\n",
    "        dict_counts[c_a+'_'+text_clean] = df_clust\n",
    "        df_clust.to_csv('.//results//overview_paragraphs//qa_Paragraphs_total_'+c_a+'_for_'+text_clean+'_'+timestr+'_V01.csv',\n",
    "        sep=';', decimal=',')"
   ]
  },
  {
   "cell_type": "markdown",
   "metadata": {},
   "source": [
    "### for share of documents per country"
   ]
  },
  {
   "cell_type": "code",
   "execution_count": 21,
   "metadata": {},
   "outputs": [],
   "source": [
    "dict_counts = {}\n",
    "for c_a in ['Country', 'class']:\n",
    "    for text_clean in ['num_words_Text', 'num_words_Clean']:\n",
    "        df_count_words = df_basis.groupby([c_a,text_clean], as_index=False)[['no_interview']].count()\n",
    "        piv_count_words = pd.pivot_table(df_count_words, values=\"no_interview\",\\\n",
    "                         index=[text_clean], columns=[c_a], fill_value=0)\n",
    "        #calculate shares for each country/group\n",
    "        piv_count_words_share = pd.DataFrame()\n",
    "        for col in piv_count_words.columns:\n",
    "            piv_count_words_share[col] = piv_count_words[col]/piv_count_words[col].sum()*100\n",
    "        \n",
    "        piv_count_words_clustered = piv_count_words_share.copy()\n",
    "        piv_count_words_clustered.reset_index(inplace=True)\n",
    "        piv_count_words_clustered.columns.name = None\n",
    "        piv_count_words_clustered.index.rename('Index', inplace=True)\n",
    "\n",
    "        df_clust = pd.DataFrame()\n",
    "        list_a = list(piv_count_words_clustered.columns)\n",
    "        list_a.remove(text_clean)\n",
    "\n",
    "        for x in [1,2,5,7,10,20,50,75,100, 200,500, 1000, 2000, 5000, 10000]:\n",
    "            var_n = 0\n",
    "            dict_row = {}\n",
    "            df = piv_count_words_clustered[piv_count_words_clustered[text_clean]<=x]\n",
    "            for y in list_a:\n",
    "                var_no = df[y].sum()\n",
    "                dict_row[y] = var_no\n",
    "                var_n += var_no\n",
    "            dict_row['<=x'] = x\n",
    "            dict_row['total'] = var_n\n",
    "            df_clust = df_clust.append(dict_row, ignore_index=True)\n",
    "        df_clust = df_clust.round(1)\n",
    "        dict_counts[c_a+'_'+text_clean] = df_clust\n",
    "        df_clust.to_csv('.//results//overview_paragraphs//qa_Paragraphs_share_'+c_a+'_for_'+text_clean+'_'+timestr+'_V01.csv',\n",
    "        sep=';', decimal=',')"
   ]
  },
  {
   "cell_type": "code",
   "execution_count": null,
   "metadata": {},
   "outputs": [],
   "source": []
  },
  {
   "cell_type": "code",
   "execution_count": null,
   "metadata": {},
   "outputs": [],
   "source": []
  }
 ],
 "metadata": {
  "kernelspec": {
   "display_name": "Python 3",
   "language": "python",
   "name": "python3"
  },
  "language_info": {
   "codemirror_mode": {
    "name": "ipython",
    "version": 3
   },
   "file_extension": ".py",
   "mimetype": "text/x-python",
   "name": "python",
   "nbconvert_exporter": "python",
   "pygments_lexer": "ipython3",
   "version": "3.7.4"
  }
 },
 "nbformat": 4,
 "nbformat_minor": 2
}
