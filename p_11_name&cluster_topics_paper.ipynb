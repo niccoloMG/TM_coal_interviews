{
 "cells": [
  {
   "cell_type": "markdown",
   "metadata": {},
   "source": [
    "Cluster the topics into groups"
   ]
  },
  {
   "cell_type": "code",
   "execution_count": 37,
   "metadata": {},
   "outputs": [],
   "source": [
    "import pandas as pd\n",
    "import time #to have today's date\n",
    "timestr = time.strftime(\"%Y%m%d\")"
   ]
  },
  {
   "cell_type": "markdown",
   "metadata": {},
   "source": [
    "## Import dataframes"
   ]
  },
  {
   "cell_type": "code",
   "execution_count": 26,
   "metadata": {},
   "outputs": [],
   "source": [
    "#import dataframe with all topics and the 20 most representatives texts and the 20 most important keywords\n",
    "#prepared in p_10_dominant_topics_in_texts_qa\n",
    "df_top_docs_per_topic_keyw = pd.read_csv('.//results//topics_group//qa_topic_keywords_representative_text_'+timestr+'_V01.csv',\n",
    "    sep=';', decimal=',', index_col=0) #check for most recent version!"
   ]
  },
  {
   "cell_type": "code",
   "execution_count": 27,
   "metadata": {},
   "outputs": [],
   "source": [
    "#import the dataframe with the exclusive words (low lambda)\n",
    "#prepared in p_09_analyse_topics_qa\n",
    "df_topics_keyw_lam = pd.read_csv('.//results//topics_group//qa_topic_original_numbers_keywords_lambda_'+timestr+'_V01.csv',\n",
    "    sep=';', decimal=',', index_col=0)"
   ]
  },
  {
   "cell_type": "code",
   "execution_count": 28,
   "metadata": {},
   "outputs": [],
   "source": [
    "#prepared in p_06_set_parameters_LDA_qa_\n",
    "df_topicnum_grouped_3_kw = pd.read_csv\\\n",
    "        ('.\\\\results\\LDA_set_parameters\\parameters_lda\\qa_overview_10_topicnum_match_03_keyw_'+timestr+'_V01.csv',\n",
    "            sep=';', decimal=',', index_col=0)"
   ]
  },
  {
   "cell_type": "code",
   "execution_count": 29,
   "metadata": {},
   "outputs": [],
   "source": [
    "df_topicnum_grouped_3_kw = df_topicnum_grouped_3_kw[['tnum_22_topic_scores', 'tn_tnum_22']]\n",
    "df_scores = df_topicnum_grouped_3_kw.drop_duplicates().dropna().reset_index(drop=True)\n",
    "df_scores = df_scores.rename(columns={'tn_tnum_22': 'ori_topic_num', 'tnum_22_topic_scores':'topic_score_%'})"
   ]
  },
  {
   "cell_type": "markdown",
   "metadata": {},
   "source": [
    "## merge and export dataframe for manual clustering"
   ]
  },
  {
   "cell_type": "code",
   "execution_count": 30,
   "metadata": {},
   "outputs": [],
   "source": [
    "#add topic scores to topics and keywords\n",
    "df_cluster_topics_first = df_topics_keyw_lam.merge(df_scores, how='outer')"
   ]
  },
  {
   "cell_type": "code",
   "execution_count": 31,
   "metadata": {},
   "outputs": [],
   "source": [
    "#add respresentative documents to each topic\n",
    "df_cluster_topics = df_top_docs_per_topic_keyw.copy().merge(df_cluster_topics_first, how='outer')"
   ]
  },
  {
   "cell_type": "code",
   "execution_count": 32,
   "metadata": {},
   "outputs": [],
   "source": [
    "df_cluster_topics['Topic_label']=''\n",
    "df_cluster_topics['Category']=''\n",
    "df_cluster_topics['Topic_Perc_Contrib'] = round(df_cluster_topics['Topic_Perc_Contrib'], 2)"
   ]
  },
  {
   "cell_type": "code",
   "execution_count": 34,
   "metadata": {},
   "outputs": [],
   "source": [
    "df_cluster_topics = df_cluster_topics[['ori_topic_num', 'Topic_label', 'Category', 'topic_score_%', 'keywords',\\\n",
    "            'lambda_0', 'Topic_Perc_Contrib', 'Text']]"
   ]
  },
  {
   "cell_type": "code",
   "execution_count": 35,
   "metadata": {},
   "outputs": [],
   "source": [
    "#check: each topic has 20 documents?\n",
    "for x in set(df_cluster_topics['ori_topic_num']):\n",
    "    df_x_len = df_cluster_topics[df_cluster_topics['ori_topic_num'] == x]\n",
    "    if len(df_x_len) != 20:\n",
    "        print('topic '+ str(x) + ' has ' + str(len(df_x_len)) + ' documents')"
   ]
  },
  {
   "cell_type": "code",
   "execution_count": 36,
   "metadata": {},
   "outputs": [],
   "source": [
    "#re-arrange:\n",
    "df_cluster_topics = df_cluster_topics.sort_values(['ori_topic_num', 'Topic_Perc_Contrib'], \\\n",
    "                                ascending=[True, False]).reset_index(drop=True)"
   ]
  },
  {
   "cell_type": "code",
   "execution_count": 37,
   "metadata": {},
   "outputs": [],
   "source": [
    "for x in ['ori_topic_num', 'topic_score_%', 'keywords', 'lambda_0']:\n",
    "    df_cluster_topics[x] = df_cluster_topics[x].drop_duplicates()"
   ]
  },
  {
   "cell_type": "code",
   "execution_count": 38,
   "metadata": {},
   "outputs": [],
   "source": [
    "df_cluster_topics['topic_score_%'] = round(df_cluster_topics['topic_score_%'], 1)"
   ]
  },
  {
   "cell_type": "code",
   "execution_count": 43,
   "metadata": {},
   "outputs": [],
   "source": [
    "df_cluster_topics.to_excel('.//results//topics_group//topics_label_category_manually_t22_'+timestr+'_V01.xlsx')"
   ]
  },
  {
   "cell_type": "markdown",
   "metadata": {},
   "source": [
    "## import dataframe with clustered topics"
   ]
  },
  {
   "cell_type": "code",
   "execution_count": 2,
   "metadata": {},
   "outputs": [
    {
     "name": "stdout",
     "output_type": "stream",
     "text": [
      "{'encoding': 'ISO-8859-1', 'confidence': 0.73, 'language': ''}\n"
     ]
    }
   ],
   "source": [
    "#P: UnicodeDecodeError: 'utf-8' codec can't decode byte 0xe1 in position 4467: invalid continuation byte\n",
    "#S: check encoding with chardet\n",
    "# to get the best encoding\n",
    "import chardet\n",
    "filename = './/results//topics_group//manually_labelled//topics_label_category_MERGED_'+timestr+'_short_V01.csv'\n",
    "with open(filename, 'rb') as file:\n",
    "    print(chardet.detect(file.read()))"
   ]
  },
  {
   "cell_type": "code",
   "execution_count": 3,
   "metadata": {},
   "outputs": [],
   "source": [
    "#import with clustered topics:\n",
    "df_topics_categories_imp = pd.read_csv('.//results//topics_group//manually_labelled//topics_label_category_MERGED_'+timestr+'_short_V01.csv',\n",
    "    sep=';', decimal=',', encoding='ISO-8859-1')"
   ]
  },
  {
   "cell_type": "markdown",
   "metadata": {},
   "source": [
    "## renumber topics, according to categories"
   ]
  },
  {
   "cell_type": "code",
   "execution_count": 12,
   "metadata": {},
   "outputs": [],
   "source": [
    "df_topics_categories_imp.rename(columns={'Final_Topic_label':'Topic_label', 'Final_Category':'Category_label'}, inplace=True)"
   ]
  },
  {
   "cell_type": "code",
   "execution_count": 15,
   "metadata": {},
   "outputs": [],
   "source": [
    "#topics should have numbers according to their categories\n",
    "#this makes it nicer to show later in the graphs\n",
    "df_topics_categories_imp = df_topics_categories_imp.copy()[['ori_topic_num', 'topic_score_%', 'Topic_label', 'Category_label', 'keywords', \\\n",
    "                'lambda_0']].dropna().reset_index(drop=True)"
   ]
  },
  {
   "cell_type": "code",
   "execution_count": 21,
   "metadata": {},
   "outputs": [
    {
     "data": {
      "text/plain": [
       "['Policies',\n",
       " 'Energy governance & markets',\n",
       " 'Actors & interests',\n",
       " 'Electric power system']"
      ]
     },
     "execution_count": 21,
     "metadata": {},
     "output_type": "execute_result"
    }
   ],
   "source": [
    "list(set(df_topics_categories_imp['Category_label']))"
   ]
  },
  {
   "cell_type": "code",
   "execution_count": 28,
   "metadata": {},
   "outputs": [],
   "source": [
    "cat_list_alpha = ['Actors & interests', 'Electric power system', 'Energy governance & markets', 'Policies'] "
   ]
  },
  {
   "cell_type": "code",
   "execution_count": 29,
   "metadata": {},
   "outputs": [],
   "source": [
    "#add numbers to the categories\n",
    "df_cat_num = pd.DataFrame(data={'Category_num':range(1,len(set(df_topics_categories_imp['Category_label']))+1),\\\n",
    "                                'Category_label':cat_list_alpha})\n",
    "\n",
    "df_topics_categories = df_topics_categories_imp.merge(df_cat_num)"
   ]
  },
  {
   "cell_type": "code",
   "execution_count": 31,
   "metadata": {},
   "outputs": [],
   "source": [
    "#sort by categories and number the topics again\n",
    "df_topics_categories_num = df_topics_categories.sort_values('Category_num').reset_index(drop=True)\n",
    "df_topics_categories_num['Topic_num'] = range(1, len(df_topics_categories_num)+1)"
   ]
  },
  {
   "cell_type": "code",
   "execution_count": 32,
   "metadata": {},
   "outputs": [
    {
     "data": {
      "text/plain": [
       "Index(['ori_topic_num', 'topic_score_%', 'Topic_label', 'Category_label',\n",
       "       'keywords', 'lambda_0', 'Category_num', 'Topic_num'],\n",
       "      dtype='object')"
      ]
     },
     "execution_count": 32,
     "metadata": {},
     "output_type": "execute_result"
    }
   ],
   "source": [
    "df_topics_categories_num.columns"
   ]
  },
  {
   "cell_type": "code",
   "execution_count": 34,
   "metadata": {},
   "outputs": [],
   "source": [
    "df_topics_categories_num = df_topics_categories_num[['Category_num', 'Category_label', \\\n",
    "                    'Topic_num', 'Topic_label', 'topic_score_%', 'keywords', 'lambda_0', 'ori_topic_num']]"
   ]
  },
  {
   "cell_type": "markdown",
   "metadata": {},
   "source": [
    "## export dataframe with topics and categories"
   ]
  },
  {
   "cell_type": "code",
   "execution_count": 35,
   "metadata": {},
   "outputs": [],
   "source": [
    "#dataframe with the topics, numbers, names, categories and keywords"
   ]
  },
  {
   "cell_type": "code",
   "execution_count": 36,
   "metadata": {},
   "outputs": [],
   "source": [
    "df_topics_categories_num.to_csv\\\n",
    "('.//results//master_dfs//category_numname_topics_numname_orinew_keywords_lambda_'+timestr+'_V01.csv',\n",
    "    sep=';', decimal=',')"
   ]
  },
  {
   "cell_type": "code",
   "execution_count": null,
   "metadata": {},
   "outputs": [],
   "source": []
  }
 ],
 "metadata": {
  "kernelspec": {
   "display_name": "Python 3",
   "language": "python",
   "name": "python3"
  },
  "language_info": {
   "codemirror_mode": {
    "name": "ipython",
    "version": 3
   },
   "file_extension": ".py",
   "mimetype": "text/x-python",
   "name": "python",
   "nbconvert_exporter": "python",
   "pygments_lexer": "ipython3",
   "version": "3.7.4"
  }
 },
 "nbformat": 4,
 "nbformat_minor": 2
}
