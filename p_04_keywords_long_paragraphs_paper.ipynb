{
 "cells": [
  {
   "cell_type": "code",
   "execution_count": 1,
   "metadata": {},
   "outputs": [],
   "source": [
    "import collections #to sort list by occurrences\n",
    "from collections import Counter"
   ]
  },
  {
   "cell_type": "code",
   "execution_count": 2,
   "metadata": {},
   "outputs": [
    {
     "name": "stderr",
     "output_type": "stream",
     "text": [
      "[nltk_data] Downloading package stopwords to\n",
      "[nltk_data]     C:\\Users\\mann\\AppData\\Roaming\\nltk_data...\n",
      "[nltk_data]   Package stopwords is already up-to-date!\n",
      "[nltk_data] Downloading package wordnet to\n",
      "[nltk_data]     C:\\Users\\mann\\AppData\\Roaming\\nltk_data...\n",
      "[nltk_data]   Package wordnet is already up-to-date!\n"
     ]
    }
   ],
   "source": [
    "#get the clean text from the other notebook\n",
    "%run ./p_03_prepare_text_paper.ipynb\n",
    "# list_wordcount_drop. list with the numbers that we might drop\n",
    "# dict_clean_doc_x. has the doc_clean for each x from the list_wordcount_drop\n",
    "# dict_doc_list_paras_x. has the doc_list_paras for each x. "
   ]
  },
  {
   "cell_type": "markdown",
   "metadata": {},
   "source": [
    "### show the top n words when short docs are dropped"
   ]
  },
  {
   "cell_type": "code",
   "execution_count": 3,
   "metadata": {},
   "outputs": [],
   "source": [
    "#show for each x in list_wordcount_drop the 25 topwords when all docs <=x are dropped\n",
    "var_top_n = 50\n",
    "df_top_words_x = pd.DataFrame()\n",
    "dict_list_all_docs_together = {}\n",
    "for x in list_wordcount_drop:\n",
    "    dict_list_all_docs_together['>'+str(x)] = []\n",
    "    for doc in dict_clean_doc_x['>'+str(x)]:\n",
    "        dict_list_all_docs_together['>'+str(x)].extend(doc)\n",
    "    list_sorted_top = Counter(dict_list_all_docs_together['>'+str(x)]).most_common()[0:var_top_n]\n",
    "    df_top_words_x['>'+str(x)] = list_sorted_top\n",
    "        "
   ]
  },
  {
   "cell_type": "code",
   "execution_count": 4,
   "metadata": {},
   "outputs": [],
   "source": [
    "df_top_words_x.to_csv('.//results//LDA_set_parameters//word_drop_lda//qa_top_'+str(var_top_n)+'_words_per_x_'+timestr+'.csv',\n",
    "    sep=';', decimal=',')"
   ]
  },
  {
   "cell_type": "markdown",
   "metadata": {},
   "source": [
    "## calculate the relative changes for words"
   ]
  },
  {
   "cell_type": "code",
   "execution_count": 6,
   "metadata": {},
   "outputs": [],
   "source": [
    "#first, calculate the average change.\n",
    "#how many words in total are in the corpus for each x -->Average change\n",
    "dict_changes = {} #the changes in number of total words \n",
    "dict_occur = {} #the occurrances of each word\n",
    "for x in range(0, len(list_wordcount_drop)):\n",
    "    x_0 = list_wordcount_drop[x]\n",
    "    dict_occur[str(x_0)] = Counter(dict_list_all_docs_together['>'+str(x_0)])\n",
    "    if x != len(list_wordcount_drop)-1:\n",
    "        x_n = list_wordcount_drop[x+1]\n",
    "        var_total_words = len(dict_list_all_docs_together['>'+str(x_0)])\n",
    "        var_total_words_n = len(dict_list_all_docs_together['>'+str(x_n)])\n",
    "        var_change = var_total_words/var_total_words_n\n",
    "        dict_changes[str(x_0)+'_'+str(x_n)] = var_change"
   ]
  },
  {
   "cell_type": "code",
   "execution_count": 7,
   "metadata": {},
   "outputs": [],
   "source": [
    "#how does each word deviate from the average change? \n",
    "#only for words that occur at least 10 times\n",
    "\n",
    "dict_word_changes_dict = {}\n",
    "dict_word_changes_df = {}\n",
    "for x in range(0, len(list_wordcount_drop)):\n",
    "    dict_aa = {}\n",
    "    x_0 = list_wordcount_drop[x]\n",
    "    if x != len(list_wordcount_drop)-1:\n",
    "        x_n = list_wordcount_drop[x+1]\n",
    "        for word in dict_occur[str(x_0)]:\n",
    "            var_occur = dict_occur[str(x_0)][word]\n",
    "            if var_occur > 50: #word occurs at least X times\n",
    "                if word in dict_occur[str(x_n)]: #word occurs in both corpi\n",
    "                    var_occur_n = dict_occur[str(x_n)][word]\n",
    "                    if var_occur != var_occur_n:\n",
    "                        var_occur_change = var_occur/var_occur_n\n",
    "                        var_change_change = var_occur_change - dict_changes[str(x_0)+'_'+str(x_n)]\n",
    "                        dict_aa[word] = var_change_change\n",
    "        \n",
    "        dict_word_changes_dict[str(x_0)+'_'+str(x_n)] = dict_aa\n",
    "        dict_word_changes_df[str(x_0)+'_'+str(x_n)] = pd.DataFrame.from_dict(dict_aa, orient='index')\n",
    "        if dict_aa != {}: #can be empty, if the corpi are too similar\n",
    "            dict_word_changes_df[str(x_0)+'_'+str(x_n)].columns = [str(x_0)+'_'+str(x_n)]\n",
    "            dict_word_changes_df[str(x_0)+'_'+str(x_n)].sort_values(str(x_0)+'_'+str(x_n), ascending=False, inplace=True)\n",
    "        else:\n",
    "            dict_word_changes_df[str(x_0)+'_'+str(x_n)][str(x_0)+'_'+str(x_n)] = []"
   ]
  },
  {
   "cell_type": "code",
   "execution_count": 8,
   "metadata": {},
   "outputs": [],
   "source": [
    "#A POSITIVE VALUE IMPLIES THAT THE RESPECTIVE WORD DISAPPEARS\n",
    "#A NEGATIVE VALUE IMPLIES, THAT THE WORD APPEARS (ALMOST) AS OFTEN"
   ]
  },
  {
   "cell_type": "code",
   "execution_count": 9,
   "metadata": {},
   "outputs": [],
   "source": [
    "#do a dataframe, showing the top 50 words that change between corpi\n",
    "df_words_disappear = pd.DataFrame(index=list(range(0,50)))\n",
    "for x in range(0, len(list_wordcount_drop)):\n",
    "    x_0 = list_wordcount_drop[x]\n",
    "    if x != len(list_wordcount_drop)-1:\n",
    "        x_n = list_wordcount_drop[x+1]\n",
    "        df_to_add = dict_word_changes_df[str(x_0)+'_'+str(x_n)].reset_index().loc[0:50,:]\n",
    "        df_to_add.columns = [str(x_0)+'_'+str(x_n)+'_words', str(x_0)+'_'+str(x_n)+'_changes']\n",
    "        df_words_disappear = df_words_disappear.join(df_to_add)"
   ]
  },
  {
   "cell_type": "code",
   "execution_count": 10,
   "metadata": {},
   "outputs": [],
   "source": [
    "df_words_disappear.to_csv('.//results//LDA_set_parameters//word_drop_lda//qa_occurrence_word_changes_'+timestr+'.csv',\n",
    "    sep=';', decimal=',')"
   ]
  },
  {
   "cell_type": "code",
   "execution_count": null,
   "metadata": {},
   "outputs": [],
   "source": []
  }
 ],
 "metadata": {
  "kernelspec": {
   "display_name": "Python 3",
   "language": "python",
   "name": "python3"
  },
  "language_info": {
   "codemirror_mode": {
    "name": "ipython",
    "version": 3
   },
   "file_extension": ".py",
   "mimetype": "text/x-python",
   "name": "python",
   "nbconvert_exporter": "python",
   "pygments_lexer": "ipython3",
   "version": "3.7.4"
  }
 },
 "nbformat": 4,
 "nbformat_minor": 2
}
